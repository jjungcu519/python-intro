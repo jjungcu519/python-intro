{
 "cells": [
  {
   "cell_type": "markdown",
   "id": "e506e515-9dad-422a-986c-5a02088bb917",
   "metadata": {},
   "source": [
    "# 함수(Function)"
   ]
  },
  {
   "cell_type": "code",
   "execution_count": 1,
   "id": "fbe31c3a-76cb-443a-a44c-b225ddf7fb43",
   "metadata": {},
   "outputs": [
    {
     "name": "stdout",
     "output_type": "stream",
     "text": [
      "사각형의 넓이는 1500고, 둘레는 160입니다.\n"
     ]
    }
   ],
   "source": [
    "height = 50\n",
    "width = 30\n",
    "\n",
    "area = height * width\n",
    "permeter = (height + width) * 2\n",
    "\n",
    "print (f'사각형의 넓이는 {area}고, 둘레는 {permeter}입니다.')"
   ]
  },
  {
   "cell_type": "markdown",
   "id": "0a7dff00-1ed5-45d3-84d2-cb1d5769d2de",
   "metadata": {},
   "source": [
    "## 함수의 선언(정의)과 호출(사용)\n",
    "\n",
    "- 함수의 선언\n",
    "\n",
    "  ```python\n",
    "  def func_name(parameter1, parameter2 ... ):\n",
    "      code1\n",
    "      code2\n",
    "      ...\n",
    "      return value\n",
    "  ```\n",
    "\n",
    "  \n",
    "- 함수의 호출(실행)\n",
    "\n",
    "   ```python\n",
    "   func_name(parameter1, parameter2 ...)\n",
    "   ```"
   ]
  },
  {
   "cell_type": "code",
   "execution_count": 2,
   "id": "54a89c32-6455-48c4-877a-83c0eb7361c3",
   "metadata": {},
   "outputs": [],
   "source": [
    "def rectangle(height, width):\n",
    "    area = height * width\n",
    "    permeter = (height + width) * 2\n",
    "    print(area, permeter)"
   ]
  },
  {
   "cell_type": "code",
   "execution_count": 3,
   "id": "5dd7f314-becc-44c8-a8dc-d6e3db041863",
   "metadata": {},
   "outputs": [
    {
     "name": "stdout",
     "output_type": "stream",
     "text": [
      "1200 140\n"
     ]
    }
   ],
   "source": [
    "rectangle(40,30)"
   ]
  },
  {
   "cell_type": "code",
   "execution_count": 52,
   "id": "bc932c6c-3fbb-49b5-84d2-14ebbcc55c0a",
   "metadata": {},
   "outputs": [
    {
     "data": {
      "text/plain": [
       "['ArithmeticError',\n",
       " 'AssertionError',\n",
       " 'AttributeError',\n",
       " 'BaseException',\n",
       " 'BaseExceptionGroup',\n",
       " 'BlockingIOError',\n",
       " 'BrokenPipeError',\n",
       " 'BufferError',\n",
       " 'BytesWarning',\n",
       " 'ChildProcessError',\n",
       " 'ConnectionAbortedError',\n",
       " 'ConnectionError',\n",
       " 'ConnectionRefusedError',\n",
       " 'ConnectionResetError',\n",
       " 'DeprecationWarning',\n",
       " 'EOFError',\n",
       " 'Ellipsis',\n",
       " 'EncodingWarning',\n",
       " 'EnvironmentError',\n",
       " 'Exception',\n",
       " 'ExceptionGroup',\n",
       " 'False',\n",
       " 'FileExistsError',\n",
       " 'FileNotFoundError',\n",
       " 'FloatingPointError',\n",
       " 'FutureWarning',\n",
       " 'GeneratorExit',\n",
       " 'IOError',\n",
       " 'ImportError',\n",
       " 'ImportWarning',\n",
       " 'IndentationError',\n",
       " 'IndexError',\n",
       " 'InterruptedError',\n",
       " 'IsADirectoryError',\n",
       " 'KeyError',\n",
       " 'KeyboardInterrupt',\n",
       " 'LookupError',\n",
       " 'MemoryError',\n",
       " 'ModuleNotFoundError',\n",
       " 'NameError',\n",
       " 'None',\n",
       " 'NotADirectoryError',\n",
       " 'NotImplemented',\n",
       " 'NotImplementedError',\n",
       " 'OSError',\n",
       " 'OverflowError',\n",
       " 'PendingDeprecationWarning',\n",
       " 'PermissionError',\n",
       " 'ProcessLookupError',\n",
       " 'RecursionError',\n",
       " 'ReferenceError',\n",
       " 'ResourceWarning',\n",
       " 'RuntimeError',\n",
       " 'RuntimeWarning',\n",
       " 'StopAsyncIteration',\n",
       " 'StopIteration',\n",
       " 'SyntaxError',\n",
       " 'SyntaxWarning',\n",
       " 'SystemError',\n",
       " 'SystemExit',\n",
       " 'TabError',\n",
       " 'TimeoutError',\n",
       " 'True',\n",
       " 'TypeError',\n",
       " 'UnboundLocalError',\n",
       " 'UnicodeDecodeError',\n",
       " 'UnicodeEncodeError',\n",
       " 'UnicodeError',\n",
       " 'UnicodeTranslateError',\n",
       " 'UnicodeWarning',\n",
       " 'UserWarning',\n",
       " 'ValueError',\n",
       " 'Warning',\n",
       " 'WindowsError',\n",
       " 'ZeroDivisionError',\n",
       " '__IPYTHON__',\n",
       " '__build_class__',\n",
       " '__debug__',\n",
       " '__doc__',\n",
       " '__import__',\n",
       " '__loader__',\n",
       " '__name__',\n",
       " '__package__',\n",
       " '__spec__',\n",
       " 'abs',\n",
       " 'aiter',\n",
       " 'all',\n",
       " 'anext',\n",
       " 'any',\n",
       " 'ascii',\n",
       " 'bin',\n",
       " 'bool',\n",
       " 'breakpoint',\n",
       " 'bytearray',\n",
       " 'bytes',\n",
       " 'callable',\n",
       " 'chr',\n",
       " 'classmethod',\n",
       " 'compile',\n",
       " 'complex',\n",
       " 'copyright',\n",
       " 'credits',\n",
       " 'delattr',\n",
       " 'dict',\n",
       " 'dir',\n",
       " 'display',\n",
       " 'divmod',\n",
       " 'enumerate',\n",
       " 'eval',\n",
       " 'exec',\n",
       " 'execfile',\n",
       " 'filter',\n",
       " 'float',\n",
       " 'format',\n",
       " 'frozenset',\n",
       " 'get_ipython',\n",
       " 'getattr',\n",
       " 'globals',\n",
       " 'hasattr',\n",
       " 'hash',\n",
       " 'help',\n",
       " 'hex',\n",
       " 'id',\n",
       " 'input',\n",
       " 'int',\n",
       " 'isinstance',\n",
       " 'issubclass',\n",
       " 'iter',\n",
       " 'len',\n",
       " 'license',\n",
       " 'list',\n",
       " 'locals',\n",
       " 'map',\n",
       " 'max',\n",
       " 'memoryview',\n",
       " 'min',\n",
       " 'next',\n",
       " 'object',\n",
       " 'oct',\n",
       " 'open',\n",
       " 'ord',\n",
       " 'pow',\n",
       " 'print',\n",
       " 'property',\n",
       " 'range',\n",
       " 'repr',\n",
       " 'reversed',\n",
       " 'round',\n",
       " 'runfile',\n",
       " 'set',\n",
       " 'setattr',\n",
       " 'slice',\n",
       " 'sorted',\n",
       " 'staticmethod',\n",
       " 'str',\n",
       " 'sum',\n",
       " 'super',\n",
       " 'tuple',\n",
       " 'type',\n",
       " 'vars',\n",
       " 'zip']"
      ]
     },
     "execution_count": 52,
     "metadata": {},
     "output_type": "execute_result"
    }
   ],
   "source": [
    "dir (__builtins__) #파이떤 함수 다 보여줘"
   ]
  },
  {
   "cell_type": "code",
   "execution_count": 53,
   "id": "752155bb-d16a-4ef3-aeaa-63b0cad99da4",
   "metadata": {},
   "outputs": [
    {
     "data": {
      "text/plain": [
       "4"
      ]
     },
     "execution_count": 53,
     "metadata": {},
     "output_type": "execute_result"
    }
   ],
   "source": [
    "max ([1, 2, 3, 4]) #이터러블 데이터 = 시퀀스 데이터"
   ]
  },
  {
   "cell_type": "code",
   "execution_count": 54,
   "id": "54642a92-4326-4863-b8b8-449c70cc31f4",
   "metadata": {},
   "outputs": [],
   "source": [
    "def my_max(n1, n2):\n",
    "    if n1 > n2:\n",
    "        print(n1)\n",
    "    elif n1 < n2:\n",
    "        print(n2)\n",
    "    else:\n",
    "        print('같습니다')"
   ]
  },
  {
   "cell_type": "code",
   "execution_count": 55,
   "id": "07a28e53-17a2-4067-89cf-d74d8c2da2b3",
   "metadata": {},
   "outputs": [
    {
     "name": "stdout",
     "output_type": "stream",
     "text": [
      "5\n",
      "4\n",
      "같습니다\n"
     ]
    }
   ],
   "source": [
    "my_max(5, 1)\n",
    "my_max(2, 4)\n",
    "my_max(4, 4)"
   ]
  },
  {
   "cell_type": "markdown",
   "id": "9141bce1-2913-4273-98d5-07340f4c661c",
   "metadata": {},
   "source": [
    "## 함수의 return\n",
    "\n",
    "- 함수가 return을 만나면 해당 값을 반환하고 함수를 종료\n",
    "- 만약 return이 없는 경우 None을 자동으로 반환?\n",
    "- return은 오직 하나의 객체만 반환한다."
   ]
  },
  {
   "cell_type": "code",
   "execution_count": 56,
   "id": "4f2ee47a-5241-4dcb-8551-dc72f7ab611f",
   "metadata": {},
   "outputs": [
    {
     "name": "stdout",
     "output_type": "stream",
     "text": [
      "2\n"
     ]
    }
   ],
   "source": [
    "my_max(1, 2)"
   ]
  },
  {
   "cell_type": "code",
   "execution_count": 57,
   "id": "6ec2ea6a-b4ab-4841-afdc-2867368e9f9f",
   "metadata": {},
   "outputs": [
    {
     "name": "stdout",
     "output_type": "stream",
     "text": [
      "2\n",
      "None\n"
     ]
    }
   ],
   "source": [
    "result = my_max(1, 2)\n",
    "print(result)"
   ]
  },
  {
   "cell_type": "code",
   "execution_count": 58,
   "id": "865e2638-b700-4739-be4a-4bee8e1f14a4",
   "metadata": {},
   "outputs": [],
   "source": [
    "def my_max2(n1, n2):\n",
    "    if n1 > n2:\n",
    "        return n1\n",
    "    elif n1 < n2:\n",
    "        return n2\n",
    "    else:\n",
    "        return n1"
   ]
  },
  {
   "cell_type": "code",
   "execution_count": 59,
   "id": "8eb9b066-67c0-44e0-865e-f647298957fc",
   "metadata": {},
   "outputs": [
    {
     "name": "stdout",
     "output_type": "stream",
     "text": [
      "2\n",
      "None\n"
     ]
    }
   ],
   "source": [
    "result = my_max(1, 2)\n",
    "print(result)"
   ]
  },
  {
   "cell_type": "code",
   "execution_count": 60,
   "id": "1c4a411a-6066-4fc5-acd1-5cc58d1bc41b",
   "metadata": {},
   "outputs": [
    {
     "name": "stdout",
     "output_type": "stream",
     "text": [
      "2\n"
     ]
    }
   ],
   "source": [
    "result = my_max2(1, 2) #반환과 출력은 별개다!\n",
    "print(result)"
   ]
  },
  {
   "cell_type": "code",
   "execution_count": 61,
   "id": "0fffc1c4-ea84-4ef0-8429-38d550291518",
   "metadata": {},
   "outputs": [],
   "source": [
    "#선언\n",
    "def my_list_max(li1, li2):\n",
    "\n",
    "    if sum(li1) > sum(li2):\n",
    "        return li1\n",
    "    elif sum(li1) < sum(li2):\n",
    "        return li2\n",
    "    else:\n",
    "        return li1"
   ]
  },
  {
   "cell_type": "code",
   "execution_count": 62,
   "id": "9d4ad6dd-f44a-4112-b4a4-6d9f944544dc",
   "metadata": {},
   "outputs": [
    {
     "data": {
      "text/plain": [
       "[1, 2, 17]"
      ]
     },
     "execution_count": 62,
     "metadata": {},
     "output_type": "execute_result"
    }
   ],
   "source": [
    "#호출\n",
    "my_list_max([1, 2, 17], [6, 3, 7])"
   ]
  },
  {
   "cell_type": "raw",
   "id": "958fba11-9e9d-4cda-ae03-76148fce1718",
   "metadata": {},
   "source": [
    "#version1: 요소를 더한다.\n",
    "\n",
    "#if list1[0] + list1[1] + list1[2] > list2[0] + list2[1] + list2[2]:\n",
    "#    return list1\n",
    "\n",
    "#version2: for문 활용\n",
    "\n",
    "#result1 = 0\n",
    "#result2 = 0\n",
    "\n",
    "#for num in list1:\n",
    "#    result1 += num\n",
    "#for num in list2:\n",
    "#    result2 += num\n",
    "# 이어서 if문~\n",
    "\n",
    "#version3:내장 함수 sum 활용\n",
    "    \n",
    "#    if sum(li1) > sum(li2):\n",
    "#        return li1\n",
    "#    elif sum(li1) < sum(li2):\n",
    "#        return li2\n",
    "#    else:\n",
    "#        return li1"
   ]
  },
  {
   "cell_type": "code",
   "execution_count": 63,
   "id": "46e27672-b949-41a8-8ac3-05ff7811ca5b",
   "metadata": {},
   "outputs": [
    {
     "data": {
      "text/plain": [
       "10"
      ]
     },
     "execution_count": 63,
     "metadata": {},
     "output_type": "execute_result"
    }
   ],
   "source": [
    "def my_def(x): #분기처리로 여러개의 return 값을 설정\n",
    "\n",
    "    if x < 0:\n",
    "        return 0\n",
    "    else:\n",
    "        return x\n",
    "\n",
    "my_def(10)"
   ]
  },
  {
   "cell_type": "code",
   "execution_count": 64,
   "id": "d346dc21-638c-422a-87cb-71a7394f39f4",
   "metadata": {},
   "outputs": [
    {
     "data": {
      "text/plain": [
       "(10, 200)"
      ]
     },
     "execution_count": 64,
     "metadata": {},
     "output_type": "execute_result"
    }
   ],
   "source": [
    "def my_def2(x):\n",
    "    return x, x * 20\n",
    "\n",
    "\n",
    "my_def2(10) #튜플 형태로 묶어서 출력"
   ]
  },
  {
   "cell_type": "markdown",
   "id": "c84e78fb-c043-4d91-a743-edede7d54322",
   "metadata": {},
   "source": [
    "## 함수의 인수\n",
    "### 위치인수\n",
    "\n",
    "기본적으로 함수는 위치를 기준으로 인수를 판단합니다."
   ]
  },
  {
   "cell_type": "code",
   "execution_count": 65,
   "id": "c2964ddf-fbef-4faa-ad68-14ba4e06ea6e",
   "metadata": {},
   "outputs": [],
   "source": [
    "def cylinder(r, h):\n",
    "    return 3.14 * r **2 * h"
   ]
  },
  {
   "cell_type": "code",
   "execution_count": 66,
   "id": "583a8bd4-ba0e-424c-91d6-e1a218a83d12",
   "metadata": {},
   "outputs": [
    {
     "data": {
      "text/plain": [
       "785.0"
      ]
     },
     "execution_count": 66,
     "metadata": {},
     "output_type": "execute_result"
    }
   ],
   "source": [
    "cylinder(10, 5)\n",
    "cylinder(5, 10)"
   ]
  },
  {
   "cell_type": "markdown",
   "id": "9d210da8-5dc3-4182-9fdd-ea7eeeefe65f",
   "metadata": {},
   "source": [
    "### 기본값\n",
    "\n",
    "```python\n",
    "def func(p1=v1):\n",
    "    code...\n",
    "    return value\n",
    "```"
   ]
  },
  {
   "cell_type": "code",
   "execution_count": 75,
   "id": "c61cde44-e9ce-49dc-822e-f234066ff4a9",
   "metadata": {},
   "outputs": [],
   "source": [
    "def greeting(name = '익명'):\n",
    "    return f'{name}님 반갑습니다.'"
   ]
  },
  {
   "cell_type": "code",
   "execution_count": 78,
   "id": "9bf53675-b4d1-4e7e-9c05-f838bf205495",
   "metadata": {},
   "outputs": [
    {
     "data": {
      "text/plain": [
       "'2님 반갑습니다.'"
      ]
     },
     "execution_count": 78,
     "metadata": {},
     "output_type": "execute_result"
    }
   ],
   "source": [
    "greeting(2)"
   ]
  },
  {
   "cell_type": "code",
   "execution_count": 80,
   "id": "a01d3c39-7461-4462-a6ef-614f0ae00cf3",
   "metadata": {},
   "outputs": [
    {
     "name": "stdout",
     "output_type": "stream",
     "text": [
      "안녕하세요!저는 정아에요~"
     ]
    }
   ],
   "source": [
    "print('안녕하세요', '저는 정아에요', sep='!', end='~')"
   ]
  },
  {
   "cell_type": "code",
   "execution_count": 82,
   "id": "d445b8ba-8b9f-45e9-8573-a0baf4b9532e",
   "metadata": {},
   "outputs": [],
   "source": [
    "def greeting(age, name='익명'):\n",
    "    return f'{name}님의 나이는 {age}입니다.'"
   ]
  },
  {
   "cell_type": "code",
   "execution_count": 83,
   "id": "7706f0c8-3441-42a8-892f-8078d190f44e",
   "metadata": {},
   "outputs": [
    {
     "data": {
      "text/plain": [
       "'익명님의 나이는 10입니다.'"
      ]
     },
     "execution_count": 83,
     "metadata": {},
     "output_type": "execute_result"
    }
   ],
   "source": [
    "greeting(10)"
   ]
  },
  {
   "cell_type": "markdown",
   "id": "b8a307dc-7e2c-474d-87da-cf441023a5ce",
   "metadata": {},
   "source": [
    "### 키워드 인수\n",
    "함수를 호출(실행)할 때 내가 원하는 위치에 직접적으로 특정 인자를 전달"
   ]
  },
  {
   "cell_type": "code",
   "execution_count": 114,
   "id": "6fc85217-7660-44fb-bd08-d2fb37cdcd8d",
   "metadata": {},
   "outputs": [],
   "source": [
    "def greeting(age, name = '익명'):\n",
    "    return(f'{name}님의 나이는 {age}입니다.')"
   ]
  },
  {
   "cell_type": "code",
   "execution_count": 115,
   "id": "feac0958-c49b-4ede-96d0-3d6759bbe6f9",
   "metadata": {},
   "outputs": [
    {
     "data": {
      "text/plain": [
       "'rlfehd님의 나이는 10입니다.'"
      ]
     },
     "execution_count": 115,
     "metadata": {},
     "output_type": "execute_result"
    }
   ],
   "source": [
    "greeting(10)\n",
    "greeting(10, '길동')\n",
    "greeting(name = 'rlfehd', age = 10)"
   ]
  },
  {
   "cell_type": "markdown",
   "id": "6a9a8846-ca16-4573-a988-b2c04cb8fbb8",
   "metadata": {},
   "source": [
    "### 가변인자 리스트\n",
    "*유동적인 데이터를 어떻게 다룰것이냐*\n",
    "```python\n",
    "    def func(*parms):\n",
    "    code...\n",
    "```"
   ]
  },
  {
   "cell_type": "code",
   "execution_count": 116,
   "id": "281fc4a5-fb03-4ba6-94c7-709bb9e4b7ec",
   "metadata": {},
   "outputs": [
    {
     "name": "stdout",
     "output_type": "stream",
     "text": [
      "hi hello my name is\n"
     ]
    }
   ],
   "source": [
    "print('hi', 'hello', 'my', 'name', 'is')"
   ]
  },
  {
   "cell_type": "code",
   "execution_count": 117,
   "id": "ca5f1f16-3f7c-43a1-86c9-b3e55010b74a",
   "metadata": {},
   "outputs": [],
   "source": [
    "def my_print(*words):\n",
    "    print(words)"
   ]
  },
  {
   "cell_type": "code",
   "execution_count": 118,
   "id": "cf803994-7616-4389-8e26-8036dd7e55b1",
   "metadata": {},
   "outputs": [
    {
     "name": "stdout",
     "output_type": "stream",
     "text": [
      "('my', 'name', 'is')\n"
     ]
    }
   ],
   "source": [
    "my_print('my', 'name', 'is')"
   ]
  },
  {
   "cell_type": "code",
   "execution_count": 119,
   "id": "631ad462-a1da-4688-8f1c-936dc24dff30",
   "metadata": {},
   "outputs": [
    {
     "data": {
      "text/plain": [
       "10"
      ]
     },
     "execution_count": 119,
     "metadata": {},
     "output_type": "execute_result"
    }
   ],
   "source": [
    "max(1, 2, 3, 4, 5, 6, 7, 8, 9, 10)"
   ]
  },
  {
   "cell_type": "code",
   "execution_count": 120,
   "id": "bc4df9cd-fd45-4266-b2bd-2a9f86d22c59",
   "metadata": {},
   "outputs": [],
   "source": [
    "def my_max(*numbers): #반복을 통해 가장 큰 값을 뽑아내라.\n",
    "\n",
    "    max_num = numbers[0]\n",
    "    \n",
    "    for number in numbers:\n",
    "        if max_num < number:\n",
    "            max_num = number\n",
    "    return max_num"
   ]
  },
  {
   "cell_type": "code",
   "execution_count": 121,
   "id": "ad9df6bc-f130-4ca8-9b5d-7aeb7d3ad6a5",
   "metadata": {},
   "outputs": [
    {
     "data": {
      "text/plain": [
       "10"
      ]
     },
     "execution_count": 121,
     "metadata": {},
     "output_type": "execute_result"
    }
   ],
   "source": [
    "my_max(7,8,10,-15)"
   ]
  },
  {
   "cell_type": "markdown",
   "id": "517b8f75-0b38-491b-b5d5-99bbf34fd853",
   "metadata": {},
   "source": [
    "### 정의되지 않은 키워드 인자 처리하기\n",
    "\n",
    "```python\n",
    "def func(**kwargs):\n",
    "    code ...\n",
    "```"
   ]
  },
  {
   "cell_type": "code",
   "execution_count": 123,
   "id": "0e2e33a0-54b0-4391-8158-0f5a3a7bc9c8",
   "metadata": {},
   "outputs": [
    {
     "name": "stdout",
     "output_type": "stream",
     "text": [
      "{'name': 'JA', 'age': 30}\n"
     ]
    }
   ],
   "source": [
    "my_info = {\n",
    "    'name' : 'JA',\n",
    "    'age' : 30,\n",
    "    }\n",
    "print(my_info)"
   ]
  },
  {
   "cell_type": "code",
   "execution_count": 124,
   "id": "b8cd5d76-ed97-43ae-a03e-b6c618427d60",
   "metadata": {},
   "outputs": [
    {
     "name": "stdout",
     "output_type": "stream",
     "text": [
      "{'name': 'JA', 'age': 30}\n"
     ]
    }
   ],
   "source": [
    "info = dict(name = 'JA', age = 30)\n",
    "print(info)"
   ]
  },
  {
   "cell_type": "code",
   "execution_count": 125,
   "id": "d90b8710-2c6b-42d4-9ec0-ba1239d5ec2d",
   "metadata": {},
   "outputs": [],
   "source": [
    "def my_dict(**kwargs):\n",
    "    print(kwargs)"
   ]
  },
  {
   "cell_type": "code",
   "execution_count": 127,
   "id": "62ae042b-20fa-4b4e-9707-20ab2035ed0a",
   "metadata": {},
   "outputs": [
    {
     "name": "stdout",
     "output_type": "stream",
     "text": [
      "{}\n"
     ]
    }
   ],
   "source": [
    "my_dict()"
   ]
  },
  {
   "cell_type": "code",
   "execution_count": 131,
   "id": "fb7b6bfc-8e30-46c7-8fb3-1d653db15170",
   "metadata": {},
   "outputs": [],
   "source": [
    "def my_func(*datas, **kwdatas): #가변인수, 가변키워드인수?\n",
    "    print(datas)\n",
    "    print(kwdatas)"
   ]
  },
  {
   "cell_type": "code",
   "execution_count": 132,
   "id": "4f243f5d-89c6-42e3-bd99-358770a68087",
   "metadata": {},
   "outputs": [
    {
     "name": "stdout",
     "output_type": "stream",
     "text": [
      "(1, 'hello', [1, 2, 3], {}, (5, 5, 5))\n",
      "{'hello': 'hi', 'hi': {}}\n"
     ]
    }
   ],
   "source": [
    "my_func(1, 'hello', [1,2,3], {},(5, 5, 5), hello = 'hi', hi = {})"
   ]
  },
  {
   "cell_type": "markdown",
   "id": "d3b22f44-a205-46af-92a6-4b2ae5f7c4f0",
   "metadata": {},
   "source": [
    "### dictionary를 인자로 넣기 (unpacking)"
   ]
  },
  {
   "cell_type": "code",
   "execution_count": 133,
   "id": "346e474e-b7ee-4aeb-b14e-3a4efb6300d9",
   "metadata": {},
   "outputs": [],
   "source": [
    "def sign_up(username, pw, pw_conf):\n",
    "    if pw == pw_conf:\n",
    "        print(f'{username}님의 회원가입을 환영합니다.')\n",
    "    else:\n",
    "        print('비밀번호가 일치하지 않습니다.')"
   ]
  },
  {
   "cell_type": "code",
   "execution_count": 137,
   "id": "db80b6b6-ba03-49e9-a4ed-5d0830ed63c8",
   "metadata": {},
   "outputs": [
    {
     "name": "stdout",
     "output_type": "stream",
     "text": [
      "비밀번호가 일치하지 않습니다.\n",
      "jeongah님의 회원가입을 환영합니다.\n"
     ]
    }
   ],
   "source": [
    "sign_up('jeongah', '1234', '123')\n",
    "sign_up('jeongah', '1234', '1234')"
   ]
  },
  {
   "cell_type": "markdown",
   "id": "e7ccb636-631e-40de-a8b5-b546d7d19a22",
   "metadata": {},
   "source": [
    "user_info = {\n",
    "    'username' : 'jeongah',\n",
    "    'pw' : '1234',\n",
    "    'pw_conf' : '1234',\n",
    "}\n",
    "\n",
    "sign_up(**user_info)"
   ]
  },
  {
   "cell_type": "markdown",
   "id": "108e25f8-663c-4dbf-8b08-b5d1925c59dd",
   "metadata": {},
   "source": [
    "### lambda 표현식\n",
    "\n",
    "```python\n",
    "lambda parameter: expression\n",
    "```\n"
   ]
  },
  {
   "cell_type": "code",
   "execution_count": 143,
   "id": "4aeba073-b4a1-4352-a9a9-47bd7f60b3ba",
   "metadata": {},
   "outputs": [],
   "source": [
    "def my_sum(n1, n2):\n",
    "    return n1 + n2"
   ]
  },
  {
   "cell_type": "code",
   "execution_count": 144,
   "id": "fbc7f9b2-b533-42af-95c9-433ef5513b91",
   "metadata": {},
   "outputs": [
    {
     "data": {
      "text/plain": [
       "3"
      ]
     },
     "execution_count": 144,
     "metadata": {},
     "output_type": "execute_result"
    }
   ],
   "source": [
    "my_sum(1, 2)"
   ]
  },
  {
   "cell_type": "code",
   "execution_count": 145,
   "id": "4774d7ad-3e2e-4a3f-983d-1a852955f6bb",
   "metadata": {},
   "outputs": [
    {
     "data": {
      "text/plain": [
       "3"
      ]
     },
     "execution_count": 145,
     "metadata": {},
     "output_type": "execute_result"
    }
   ],
   "source": [
    "(lambda n1, n2: n1 +n2) (1,2)"
   ]
  },
  {
   "cell_type": "markdown",
   "id": "77117de2-9246-4de3-af09-c3b889900bf3",
   "metadata": {},
   "source": [
    "  ### 타입힌트 (개졸았다,,,)"
   ]
  },
  {
   "cell_type": "code",
   "execution_count": 157,
   "id": "9530b8f0-fca2-406d-b6ed-e8ea072ef168",
   "metadata": {},
   "outputs": [],
   "source": [
    "def my_sum(a: int, b : int) -> int:\n",
    "    return a + b"
   ]
  },
  {
   "cell_type": "code",
   "execution_count": 158,
   "id": "281ba74c-81ac-4633-9b4f-120d9978ee43",
   "metadata": {},
   "outputs": [
    {
     "ename": "TypeError",
     "evalue": "can only concatenate str (not \"int\") to str",
     "output_type": "error",
     "traceback": [
      "\u001b[1;31m------------------------------------------------------------\u001b[0m",
      "\u001b[1;31mTypeError\u001b[0m                  Traceback (most recent call last)",
      "Cell \u001b[1;32mIn[158], line 1\u001b[0m\n\u001b[1;32m----> 1\u001b[0m \u001b[43mmy_sum\u001b[49m\u001b[43m(\u001b[49m\u001b[38;5;124;43m'\u001b[39;49m\u001b[38;5;124;43m1\u001b[39;49m\u001b[38;5;124;43m'\u001b[39;49m\u001b[43m,\u001b[49m\u001b[38;5;241;43m2\u001b[39;49m\u001b[43m)\u001b[49m\n",
      "Cell \u001b[1;32mIn[157], line 2\u001b[0m, in \u001b[0;36mmy_sum\u001b[1;34m(a, b)\u001b[0m\n\u001b[0;32m      1\u001b[0m \u001b[38;5;28;01mdef\u001b[39;00m \u001b[38;5;21mmy_sum\u001b[39m(a: \u001b[38;5;28mint\u001b[39m, b : \u001b[38;5;28mint\u001b[39m) \u001b[38;5;241m-\u001b[39m\u001b[38;5;241m>\u001b[39m \u001b[38;5;28mint\u001b[39m:\n\u001b[1;32m----> 2\u001b[0m     \u001b[38;5;28;01mreturn\u001b[39;00m \u001b[43ma\u001b[49m\u001b[43m \u001b[49m\u001b[38;5;241;43m+\u001b[39;49m\u001b[43m \u001b[49m\u001b[43mb\u001b[49m\n",
      "\u001b[1;31mTypeError\u001b[0m: can only concatenate str (not \"int\") to str"
     ]
    }
   ],
   "source": [
    "my_sum('1',2)"
   ]
  },
  {
   "cell_type": "markdown",
   "id": "f60a2499-cd07-4ae5-9ffd-7a184822295b",
   "metadata": {},
   "source": [
    "## 이름공간(scope)\n",
    "\n",
    "python에서 사용되는 이름들은 이름공간에 저장되어있습니다.\n",
    "\n",
    "1. Local : 정의된 함수 내부\n",
    "2. Enclosed : 상위함수\n",
    "3. Global: 함수 밖\n",
    "4. Built-in: python이 기본적으로 가지고 있는 함수 / 변수"
   ]
  },
  {
   "cell_type": "code",
   "execution_count": 161,
   "id": "0a6221e3-0b0e-45c5-8b05-61ad94994231",
   "metadata": {},
   "outputs": [
    {
     "name": "stdout",
     "output_type": "stream",
     "text": [
      "1\n"
     ]
    }
   ],
   "source": [
    "result = str(1)\n",
    "print(result)"
   ]
  },
  {
   "cell_type": "code",
   "execution_count": 165,
   "id": "2d6885b2-0262-415d-8117-8755b2fc3b44",
   "metadata": {},
   "outputs": [
    {
     "name": "stdout",
     "output_type": "stream",
     "text": [
      "1\n",
      "5\n"
     ]
    }
   ],
   "source": [
    "a =1\n",
    "\n",
    "def local_scope(a):\n",
    "    # a = 5\n",
    "    return a\n",
    "    \n",
    "print(a)\n",
    "print(local_scope(5))"
   ]
  },
  {
   "cell_type": "code",
   "execution_count": 167,
   "id": "81c0b57b-02f0-48b9-85ef-e628345b58d7",
   "metadata": {},
   "outputs": [
    {
     "data": {
      "text/plain": [
       "11"
      ]
     },
     "execution_count": 167,
     "metadata": {},
     "output_type": "execute_result"
    }
   ],
   "source": [
    "a = 10\n",
    "\n",
    "def global_scope():\n",
    "    global a\n",
    "    a = a + 1\n",
    "    return a\n",
    "\n",
    "global_scope()"
   ]
  },
  {
   "cell_type": "markdown",
   "id": "a7b18834-091a-4552-9ea9-fd31728661a5",
   "metadata": {},
   "source": [
    "## 재귀\n",
    "\n",
    "재귀함수는 함수 내부에서 **자기 자신을 호출**하는 함수입니다."
   ]
  },
  {
   "cell_type": "markdown",
   "id": "be91511e-c7fa-44d8-a80d-8658d2f6eb57",
   "metadata": {},
   "source": [
    "n! = 1 * 2 * 3 * ... n\n",
    "\n",
    "- 1! = 1\n",
    "- 2! = 1 * 2 = 1! * 2\n",
    "- 3! = 1 * 2 * 3 = 2! * 3\n",
    "...\n",
    "- n! = (n-1)! * n"
   ]
  },
  {
   "cell_type": "code",
   "execution_count": 169,
   "id": "c32501c4-8c14-4188-8305-4d4266fb5498",
   "metadata": {},
   "outputs": [],
   "source": [
    "def fact(n):\n",
    "    if n == 1:\n",
    "        return 1\n",
    "    else:\n",
    "        return fact(n-1) * n"
   ]
  },
  {
   "cell_type": "code",
   "execution_count": 170,
   "id": "16381cc0-a9d8-4fbb-9e15-39ac443a8050",
   "metadata": {},
   "outputs": [
    {
     "data": {
      "text/plain": [
       "120"
      ]
     },
     "execution_count": 170,
     "metadata": {},
     "output_type": "execute_result"
    }
   ],
   "source": [
    "fact(5)"
   ]
  },
  {
   "cell_type": "code",
   "execution_count": null,
   "id": "bb8b2f21-9c56-4db7-82ad-b30070159d3b",
   "metadata": {},
   "outputs": [],
   "source": []
  }
 ],
 "metadata": {
  "kernelspec": {
   "display_name": "Python 3 (ipykernel)",
   "language": "python",
   "name": "python3"
  },
  "language_info": {
   "codemirror_mode": {
    "name": "ipython",
    "version": 3
   },
   "file_extension": ".py",
   "mimetype": "text/x-python",
   "name": "python",
   "nbconvert_exporter": "python",
   "pygments_lexer": "ipython3",
   "version": "3.12.4"
  }
 },
 "nbformat": 4,
 "nbformat_minor": 5
}
