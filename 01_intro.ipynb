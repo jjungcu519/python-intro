{
 "cells": [
  {
   "cell_type": "markdown",
   "id": "8ecb1f1f-c26f-4561-8ca3-c5cbbc5cc536",
   "metadata": {},
   "source": [
    "# 01. intro\n",
    "\n",
    "## shortcut\n",
    "\n",
    "- ctrl + enter : 현재 셀 반복 실행\n",
    "- shift + enter : 현재 셀 실행 후 다음 셀로 이동\n",
    "- alt + enter : 현재 셀 실행 후 다음에 신규 셀 추가\n",
    "\n",
    "## 주의사항\n",
    "\n",
    "1. Apple / apple (대소문자 주의)\n",
    "2. git add . (o) / git add. (x)\n",
    "3. message / massage (오탈자 주의)\n",
    "4. value1, value2 (o) / value1 ,value2 (x)"
   ]
  },
  {
   "cell_type": "code",
   "execution_count": 163,
   "id": "2ef87590-7e5f-4575-bb19-3cbd5805ea70",
   "metadata": {},
   "outputs": [],
   "source": [
    "# 여기는 주석입니다. python이 읽지 않습니다."
   ]
  },
  {
   "cell_type": "markdown",
   "id": "449e17e4-4479-4e2c-93ea-a8d7fbc304bd",
   "metadata": {},
   "source": [
    "## 1. 변수\n",
    "\n",
    " 변수이름 = 값\n",
    "\n",
    "- 변수이름은 어떤 이름이든 사용 가능\n",
    "- 단 영어(소문자), 숫자, _를 이용하여 선언\n",
    "    - 변하지 않는 데이터는 대문자를 통해 표현\n",
    "- 키워드는 사용 불가"
   ]
  },
  {
   "cell_type": "code",
   "execution_count": 164,
   "id": "b9f73423-6b8d-494b-8a70-7558db1e342b",
   "metadata": {},
   "outputs": [],
   "source": [
    "a = 30"
   ]
  },
  {
   "cell_type": "code",
   "execution_count": 165,
   "id": "daad3610-0cf2-4251-947d-8f7b354e0a38",
   "metadata": {},
   "outputs": [
    {
     "data": {
      "text/plain": [
       "30"
      ]
     },
     "execution_count": 165,
     "metadata": {},
     "output_type": "execute_result"
    }
   ],
   "source": [
    "a"
   ]
  },
  {
   "cell_type": "code",
   "execution_count": 166,
   "id": "2dc31473-9c87-4244-ba8a-764a52969e69",
   "metadata": {},
   "outputs": [
    {
     "data": {
      "text/plain": [
       "['False',\n",
       " 'None',\n",
       " 'True',\n",
       " 'and',\n",
       " 'as',\n",
       " 'assert',\n",
       " 'async',\n",
       " 'await',\n",
       " 'break',\n",
       " 'class',\n",
       " 'continue',\n",
       " 'def',\n",
       " 'del',\n",
       " 'elif',\n",
       " 'else',\n",
       " 'except',\n",
       " 'finally',\n",
       " 'for',\n",
       " 'from',\n",
       " 'global',\n",
       " 'if',\n",
       " 'import',\n",
       " 'in',\n",
       " 'is',\n",
       " 'lambda',\n",
       " 'nonlocal',\n",
       " 'not',\n",
       " 'or',\n",
       " 'pass',\n",
       " 'raise',\n",
       " 'return',\n",
       " 'try',\n",
       " 'while',\n",
       " 'with',\n",
       " 'yield']"
      ]
     },
     "execution_count": 166,
     "metadata": {},
     "output_type": "execute_result"
    }
   ],
   "source": [
    "import keyword\n",
    "keyword.kwlist"
   ]
  },
  {
   "cell_type": "code",
   "execution_count": 167,
   "id": "d3d081a4-d696-4c36-bfa2-bc603a41d668",
   "metadata": {},
   "outputs": [],
   "source": [
    "seoul_dust_rate = 10"
   ]
  },
  {
   "cell_type": "markdown",
   "id": "c360575f-9322-4fdc-b4c6-4473bf267719",
   "metadata": {},
   "source": [
    "### 1.1 number"
   ]
  },
  {
   "cell_type": "code",
   "execution_count": 168,
   "id": "515c7ddf-180d-43e7-9f95-919800f422a7",
   "metadata": {},
   "outputs": [],
   "source": [
    "a = 100000"
   ]
  },
  {
   "cell_type": "code",
   "execution_count": 169,
   "id": "4712b251-7e15-47b6-8fd4-6c438635d34c",
   "metadata": {},
   "outputs": [
    {
     "data": {
      "text/plain": [
       "100000"
      ]
     },
     "execution_count": 169,
     "metadata": {},
     "output_type": "execute_result"
    }
   ],
   "source": [
    "a"
   ]
  },
  {
   "cell_type": "code",
   "execution_count": 170,
   "id": "abc29dd9-91c1-485a-ad1c-f04ba535f606",
   "metadata": {},
   "outputs": [
    {
     "data": {
      "text/plain": [
       "int"
      ]
     },
     "execution_count": 170,
     "metadata": {},
     "output_type": "execute_result"
    }
   ],
   "source": [
    "type(a)"
   ]
  },
  {
   "cell_type": "code",
   "execution_count": 171,
   "id": "c7145fa6-6d9e-4717-93b2-69ae0b26a5ce",
   "metadata": {},
   "outputs": [],
   "source": [
    "b = 1.1"
   ]
  },
  {
   "cell_type": "code",
   "execution_count": 172,
   "id": "80facb9a-4dfd-4efd-9ba7-86d5aa6f9ac4",
   "metadata": {},
   "outputs": [
    {
     "data": {
      "text/plain": [
       "1.1"
      ]
     },
     "execution_count": 172,
     "metadata": {},
     "output_type": "execute_result"
    }
   ],
   "source": [
    "b"
   ]
  },
  {
   "cell_type": "code",
   "execution_count": 173,
   "id": "4933326c-af20-4ab1-9b1f-7b68d20316af",
   "metadata": {},
   "outputs": [
    {
     "data": {
      "text/plain": [
       "float"
      ]
     },
     "execution_count": 173,
     "metadata": {},
     "output_type": "execute_result"
    }
   ],
   "source": [
    "type(b)"
   ]
  },
  {
   "cell_type": "code",
   "execution_count": 174,
   "id": "92589be4-2dd9-493b-8671-84f5bfa8b61b",
   "metadata": {},
   "outputs": [],
   "source": [
    "c = 1 - 4j"
   ]
  },
  {
   "cell_type": "code",
   "execution_count": 175,
   "id": "ccf19f6e-de5d-4b4a-b048-9baa81279c9d",
   "metadata": {},
   "outputs": [
    {
     "data": {
      "text/plain": [
       "(1-4j)"
      ]
     },
     "execution_count": 175,
     "metadata": {},
     "output_type": "execute_result"
    }
   ],
   "source": [
    "c"
   ]
  },
  {
   "cell_type": "code",
   "execution_count": 176,
   "id": "319c3d7c-ebeb-46f7-98e7-3f415f2db746",
   "metadata": {},
   "outputs": [
    {
     "data": {
      "text/plain": [
       "complex"
      ]
     },
     "execution_count": 176,
     "metadata": {},
     "output_type": "execute_result"
    }
   ],
   "source": [
    "type(c)"
   ]
  },
  {
   "cell_type": "markdown",
   "id": "2a1b2612-49a5-4d45-8092-bdb31011573d",
   "metadata": {},
   "source": [
    "## 1.2 boolean\n",
    "\n",
    "True, False 로 이루어진 타입 (0,1)\n",
    "조건문을 다룰때 사용 (if문) (분기문)"
   ]
  },
  {
   "cell_type": "code",
   "execution_count": 177,
   "id": "365cf878-32c6-4eb0-aebf-20664bb65ba6",
   "metadata": {},
   "outputs": [],
   "source": [
    "a = True"
   ]
  },
  {
   "cell_type": "code",
   "execution_count": 178,
   "id": "d1c3facd-ea28-4dde-a97c-b87cbc04f449",
   "metadata": {},
   "outputs": [
    {
     "data": {
      "text/plain": [
       "True"
      ]
     },
     "execution_count": 178,
     "metadata": {},
     "output_type": "execute_result"
    }
   ],
   "source": [
    "a"
   ]
  },
  {
   "cell_type": "code",
   "execution_count": 179,
   "id": "9eeed106-0eef-4448-9496-27301b7f3796",
   "metadata": {},
   "outputs": [
    {
     "data": {
      "text/plain": [
       "bool"
      ]
     },
     "execution_count": 179,
     "metadata": {},
     "output_type": "execute_result"
    }
   ],
   "source": [
    "type (a)"
   ]
  },
  {
   "cell_type": "code",
   "execution_count": 180,
   "id": "2d705570-034f-4830-b6c9-6b1b336d638c",
   "metadata": {},
   "outputs": [],
   "source": [
    "b = False"
   ]
  },
  {
   "cell_type": "code",
   "execution_count": 181,
   "id": "1211c4d3-6e2f-447f-bb4d-45a35d05e0fb",
   "metadata": {},
   "outputs": [
    {
     "data": {
      "text/plain": [
       "False"
      ]
     },
     "execution_count": 181,
     "metadata": {},
     "output_type": "execute_result"
    }
   ],
   "source": [
    "b"
   ]
  },
  {
   "cell_type": "code",
   "execution_count": 182,
   "id": "8aaf8cec-bb7f-42cc-96a8-2248b608b645",
   "metadata": {},
   "outputs": [
    {
     "data": {
      "text/plain": [
       "bool"
      ]
     },
     "execution_count": 182,
     "metadata": {},
     "output_type": "execute_result"
    }
   ],
   "source": [
    "type (b)"
   ]
  },
  {
   "cell_type": "markdown",
   "id": "e5d2a11a-881f-4d02-b2c4-112e99165087",
   "metadata": {},
   "source": [
    "> cf. 컴퓨터란? 저장, 반복, 계산의 3형식으로 이루어져 있습니다."
   ]
  },
  {
   "cell_type": "markdown",
   "id": "feae01a6-f44b-462a-be74-f6463053ed51",
   "metadata": {},
   "source": [
    "## 1.3 None"
   ]
  },
  {
   "cell_type": "code",
   "execution_count": 183,
   "id": "909617bc-7fef-4a6f-8cd5-f8881e20167b",
   "metadata": {},
   "outputs": [],
   "source": [
    "a = None"
   ]
  },
  {
   "cell_type": "code",
   "execution_count": 184,
   "id": "02bafb16-8efe-4a46-a30e-f405a21b809f",
   "metadata": {},
   "outputs": [
    {
     "data": {
      "text/plain": [
       "NoneType"
      ]
     },
     "execution_count": 184,
     "metadata": {},
     "output_type": "execute_result"
    }
   ],
   "source": [
    "type(a)"
   ]
  },
  {
   "cell_type": "markdown",
   "id": "a1109ae8-58c9-4097-970c-d5037dfecb37",
   "metadata": {},
   "source": [
    "> cf. 0과 None의 차이"
   ]
  },
  {
   "cell_type": "markdown",
   "id": "26308e63-eab9-4ea7-b64e-78afbf51c793",
   "metadata": {},
   "source": [
    "## 1.4 String\n",
    "\n",
    "- 문자열은 `'`, `\"`를 이용하여 표현"
   ]
  },
  {
   "cell_type": "code",
   "execution_count": 185,
   "id": "45c2f625-4b79-4091-b6e2-63bec7d6d8b4",
   "metadata": {},
   "outputs": [],
   "source": [
    "a = 'hello'"
   ]
  },
  {
   "cell_type": "code",
   "execution_count": 186,
   "id": "9a51c417-959c-43cc-8be4-f305358081e9",
   "metadata": {},
   "outputs": [
    {
     "data": {
      "text/plain": [
       "str"
      ]
     },
     "execution_count": 186,
     "metadata": {},
     "output_type": "execute_result"
    }
   ],
   "source": [
    "type(a)"
   ]
  },
  {
   "cell_type": "markdown",
   "id": "e06eae7d-cad5-4b2b-b7a1-2ae10504b2bd",
   "metadata": {},
   "source": [
    "b = \"world\""
   ]
  },
  {
   "cell_type": "code",
   "execution_count": 187,
   "id": "b69fc7e1-e0e9-483f-b686-9a96de709dfd",
   "metadata": {},
   "outputs": [
    {
     "data": {
      "text/plain": [
       "bool"
      ]
     },
     "execution_count": 187,
     "metadata": {},
     "output_type": "execute_result"
    }
   ],
   "source": [
    "type(b)"
   ]
  },
  {
   "cell_type": "markdown",
   "id": "0ca9fccc-9ad7-4630-bb80-5df0b556c38f",
   "metadata": {},
   "source": [
    "> cf. 일관성 있는 표기를 위해 둘 중 하나를 지정하여 사용하자."
   ]
  },
  {
   "cell_type": "code",
   "execution_count": 203,
   "id": "6aca3f6e-5bed-41ad-a510-b45471c8e796",
   "metadata": {},
   "outputs": [
    {
     "name": "stdin",
     "output_type": "stream",
     "text": [
      " 123\n"
     ]
    },
    {
     "name": "stdout",
     "output_type": "stream",
     "text": [
      "123\n",
      "<class 'str'>\n"
     ]
    }
   ],
   "source": [
    "age = input()\n",
    "print(age)\n",
    "print(type(age))"
   ]
  },
  {
   "cell_type": "markdown",
   "id": "e9040c8e-3145-4c63-9ce5-c9c6336a49f7",
   "metadata": {},
   "source": [
    "> cf. input의 출력형태는 글자기때문에 print(type(age))가 str로 표시됨"
   ]
  },
  {
   "cell_type": "code",
   "execution_count": 204,
   "id": "0506f7dd-1e11-43cb-a748-a10373417bf8",
   "metadata": {},
   "outputs": [
    {
     "name": "stdout",
     "output_type": "stream",
     "text": [
      "\"안녕\"하세요~\n",
      "'안녕'하세요~\n"
     ]
    }
   ],
   "source": [
    "# print('안녕하세요`오창희`입니다.`)\n",
    "print('\"안녕\"하세요~')\n",
    "print(\"'안녕'하세요~\")"
   ]
  },
  {
   "cell_type": "code",
   "execution_count": 205,
   "id": "266a4992-e2d5-468f-8efa-555816f83766",
   "metadata": {},
   "outputs": [
    {
     "name": "stdout",
     "output_type": "stream",
     "text": [
      "안녕하세요. '오창희'입니다.\n"
     ]
    }
   ],
   "source": [
    "print('안녕하세요. \\'오창희\\'입니다.')"
   ]
  },
  {
   "cell_type": "markdown",
   "id": "f2581347-693d-49af-a96c-a405a4d58ff3",
   "metadata": {},
   "source": [
    "> cf. 예외처리 할 부분 앞에 \\(백슬레쉬)를 붙여준다."
   ]
  },
  {
   "cell_type": "code",
   "execution_count": 206,
   "id": "23f0080c-3545-4a77-af66-6d792eed7717",
   "metadata": {},
   "outputs": [
    {
     "name": "stdout",
     "output_type": "stream",
     "text": [
      "\n",
      "안녕하세요 '오창희'입니다.\n",
      "줄바꿈도 문제 없습니다.\n",
      "\n"
     ]
    }
   ],
   "source": [
    "a = '''\n",
    "안녕하세요 '오창희'입니다.\n",
    "줄바꿈도 문제 없습니다.\n",
    "'''\n",
    "print(a)"
   ]
  },
  {
   "cell_type": "markdown",
   "id": "fb1418a7-c14c-4ef4-bdb0-e6ba8fb3bb95",
   "metadata": {},
   "source": [
    "> cf. document string 으로 여러줄의 문서를 작성하기 위해 사용"
   ]
  },
  {
   "cell_type": "code",
   "execution_count": 207,
   "id": "9e3aa242-0c50-4b7a-ac89-7f4cbfdab5ee",
   "metadata": {},
   "outputs": [
    {
     "name": "stdout",
     "output_type": "stream",
     "text": [
      "안녕하세요.\n",
      "줄바꿈 이스케이프 문자열입니다. \t들여쓰기 이스케이프 문자열입니다.\n"
     ]
    }
   ],
   "source": [
    "print('안녕하세요.\\n줄바꿈 이스케이프 문자열입니다. \\t들여쓰기 이스케이프 문자열입니다.')"
   ]
  },
  {
   "cell_type": "markdown",
   "id": "8171d82f-4c7e-4473-b2ed-df446f1f3fde",
   "metadata": {},
   "source": [
    "### string interpolation\n",
    "1. %-formatting\n",
    "2. str.format()\n",
    "3. f-string"
   ]
  },
  {
   "cell_type": "code",
   "execution_count": 208,
   "id": "596a651b-8a6f-41bf-ace7-101d15ca9cb7",
   "metadata": {},
   "outputs": [],
   "source": [
    "age = 10"
   ]
  },
  {
   "cell_type": "code",
   "execution_count": 209,
   "id": "2722ec83-3101-4910-bbcd-fb33c6b6b812",
   "metadata": {},
   "outputs": [
    {
     "name": "stdout",
     "output_type": "stream",
     "text": [
      "홍길동은 10살 입니다.\n"
     ]
    }
   ],
   "source": [
    "print('홍길동은 %s살 입니다.' % age)"
   ]
  },
  {
   "cell_type": "code",
   "execution_count": 210,
   "id": "b749b602-a066-4d32-8382-7654e6098777",
   "metadata": {},
   "outputs": [
    {
     "name": "stdout",
     "output_type": "stream",
     "text": [
      "홍길동은 10살 입니다.\n"
     ]
    }
   ],
   "source": [
    "print('홍길동은 {}살 입니다.'.format(age))"
   ]
  },
  {
   "cell_type": "code",
   "execution_count": 211,
   "id": "4601d293-790c-423d-81a7-bee15cd27538",
   "metadata": {},
   "outputs": [
    {
     "name": "stdout",
     "output_type": "stream",
     "text": [
      "홍길동은 10살입니다.\n"
     ]
    }
   ],
   "source": [
    "print(f'홍길동은 {age}살입니다.')"
   ]
  },
  {
   "cell_type": "markdown",
   "id": "8ac9daa9-89a5-4d27-a992-3b750d292be6",
   "metadata": {},
   "source": [
    "## 2. 연산자\n",
    "### 2.1 산술연산자"
   ]
  },
  {
   "cell_type": "code",
   "execution_count": 212,
   "id": "45c57b35-ebcc-4ad5-85f3-9f597270826e",
   "metadata": {},
   "outputs": [],
   "source": [
    "a = 9\n",
    "b = 4"
   ]
  },
  {
   "cell_type": "code",
   "execution_count": 213,
   "id": "3075437f-9b4c-4967-b607-abd44b97d4fe",
   "metadata": {},
   "outputs": [
    {
     "name": "stdout",
     "output_type": "stream",
     "text": [
      "13\n",
      "5\n",
      "36\n",
      "2.25\n",
      "6561\n",
      "2\n"
     ]
    }
   ],
   "source": [
    "print(a + b)\n",
    "print(a - b)\n",
    "print(a * b)\n",
    "print(a / b)\n",
    "print(a ** b)\n",
    "print(a // b)"
   ]
  },
  {
   "cell_type": "code",
   "execution_count": 214,
   "id": "9310d986-a3b4-4c04-9548-8da20450a57b",
   "metadata": {},
   "outputs": [
    {
     "name": "stdout",
     "output_type": "stream",
     "text": [
      "2\n",
      "1\n",
      "(2, 1)\n"
     ]
    }
   ],
   "source": [
    "#a를 b로 나눈 몫\n",
    "print(a // b)\n",
    "#a를 b로 나눈 나머지\n",
    "print(a % b)\n",
    "#보너스 : 몫과 나머지를 같이 출력해주는 함수\n",
    "print(divmod(a,b))"
   ]
  },
  {
   "cell_type": "markdown",
   "id": "c315f30a-6b55-4308-91ae-f53b0dc4d8e5",
   "metadata": {},
   "source": [
    "### 2.2 비교연산자"
   ]
  },
  {
   "cell_type": "code",
   "execution_count": 215,
   "id": "f1c3a082-40a2-49f7-99c3-04b7f29a89f0",
   "metadata": {},
   "outputs": [],
   "source": [
    "a = 5\n",
    "b = 10"
   ]
  },
  {
   "cell_type": "code",
   "execution_count": 216,
   "id": "c5923e75-ac27-4a45-9c96-25386fb75b89",
   "metadata": {},
   "outputs": [
    {
     "name": "stdout",
     "output_type": "stream",
     "text": [
      "False\n",
      "True\n",
      "False\n",
      "True\n"
     ]
    }
   ],
   "source": [
    "print (a > b)\n",
    "print (a < b)\n",
    "print (a >= b)\n",
    "print (a <= b)"
   ]
  },
  {
   "cell_type": "code",
   "execution_count": 217,
   "id": "a0bd839d-6a48-4c28-9203-c1ca42e00590",
   "metadata": {},
   "outputs": [
    {
     "name": "stdout",
     "output_type": "stream",
     "text": [
      "False\n",
      "True\n"
     ]
    }
   ],
   "source": [
    "print(1 == 2)\n",
    "print(a != b)"
   ]
  },
  {
   "cell_type": "code",
   "execution_count": 218,
   "id": "8344060a-261c-45b0-8092-33a3c223b434",
   "metadata": {},
   "outputs": [
    {
     "name": "stdout",
     "output_type": "stream",
     "text": [
      "True\n",
      "False\n"
     ]
    }
   ],
   "source": [
    "print ('hi' == 'hi')\n",
    "print ('Hi' == 'hi')"
   ]
  },
  {
   "cell_type": "markdown",
   "id": "0b8e4af9-4cc9-4cc2-ac46-d87978b24596",
   "metadata": {},
   "source": [
    "### 2.3 논리 연산자\n",
    "\n",
    "- and : 양쪽 모두 True일 때, True를 반환\n",
    "- or : 양쪽 모두 False일 때, False를 반환\n",
    "- not : 값을 반대로 전환하는 기능"
   ]
  },
  {
   "cell_type": "code",
   "execution_count": 219,
   "id": "af9d1dce-377c-44c9-b0c8-d8c20426ae42",
   "metadata": {},
   "outputs": [
    {
     "name": "stdout",
     "output_type": "stream",
     "text": [
      "True\n",
      "False\n",
      "False\n",
      "False\n"
     ]
    }
   ],
   "source": [
    "print(True and True)\n",
    "print(True and False)\n",
    "print (False and True)\n",
    "print(False and False)"
   ]
  },
  {
   "cell_type": "code",
   "execution_count": 220,
   "id": "50502137-7da5-42e6-b983-ad64a6f65849",
   "metadata": {},
   "outputs": [
    {
     "name": "stdout",
     "output_type": "stream",
     "text": [
      "True\n",
      "True\n",
      "True\n",
      "False\n"
     ]
    }
   ],
   "source": [
    "print (True or True)\n",
    "print (True or False)\n",
    "print (False or True)\n",
    "print (False or False)"
   ]
  },
  {
   "cell_type": "code",
   "execution_count": 221,
   "id": "96e9b686-d570-4e9e-9e07-6c177d161385",
   "metadata": {},
   "outputs": [
    {
     "name": "stdout",
     "output_type": "stream",
     "text": [
      "False\n"
     ]
    }
   ],
   "source": [
    "# 변수 앞에 not을 취하는 경우가 더 많다.\n",
    "result = True\n",
    "print(not result)"
   ]
  },
  {
   "cell_type": "code",
   "execution_count": 222,
   "id": "81134e4a-c576-4dde-a153-43824cb96017",
   "metadata": {},
   "outputs": [
    {
     "name": "stdout",
     "output_type": "stream",
     "text": [
      "5\n",
      "0\n",
      "0\n",
      "0\n"
     ]
    }
   ],
   "source": [
    "# and 단축평가\n",
    "\n",
    "print(3 and 5)\n",
    "print(3 and 0)\n",
    "print(0 and 3)\n",
    "print(0 and 0)"
   ]
  },
  {
   "cell_type": "code",
   "execution_count": 223,
   "id": "3564f380-115f-4076-b392-fd1715b2f646",
   "metadata": {},
   "outputs": [
    {
     "name": "stdout",
     "output_type": "stream",
     "text": [
      "3\n",
      "3\n",
      "3\n",
      "0\n"
     ]
    }
   ],
   "source": [
    "#or 단축평가\n",
    "\n",
    "print (3 or 5)\n",
    "print(3 or 0)\n",
    "print(0 or 3)\n",
    "print(0 or 0)"
   ]
  },
  {
   "cell_type": "markdown",
   "id": "f1f4f70c-98c7-4ae8-8504-4546bbb2ac93",
   "metadata": {},
   "source": [
    "### 2.4 복합연산자"
   ]
  },
  {
   "cell_type": "code",
   "execution_count": 224,
   "id": "c9652e08-d5b1-47c7-a456-87e77a7e08f7",
   "metadata": {},
   "outputs": [],
   "source": [
    "a = 1\n",
    "b = 2"
   ]
  },
  {
   "cell_type": "code",
   "execution_count": 225,
   "id": "d8f84d62-2576-4394-9329-8fcc2b5b8f77",
   "metadata": {},
   "outputs": [],
   "source": [
    "a = a + b\n",
    "a = a - b\n",
    "a = a * b\n",
    "a = a / b"
   ]
  },
  {
   "cell_type": "code",
   "execution_count": 226,
   "id": "1f96af55-11d8-45dd-b254-3e44043e8da7",
   "metadata": {},
   "outputs": [],
   "source": [
    "a += b\n",
    "a -= b\n",
    "a *= b\n",
    "a /= b\n",
    "a //= b\n",
    "a %= b\n",
    "a **= b"
   ]
  },
  {
   "cell_type": "markdown",
   "id": "a56a7948-9e14-40d9-86f7-f7954c46a301",
   "metadata": {},
   "source": [
    "### 2.5 기타 연산자"
   ]
  },
  {
   "cell_type": "code",
   "execution_count": 227,
   "id": "d1ff125e-9bd0-4e4a-9684-d3e17484ba19",
   "metadata": {},
   "outputs": [],
   "source": [
    "a = 'hi'\n",
    "b = 'hello'"
   ]
  },
  {
   "cell_type": "code",
   "execution_count": 228,
   "id": "9ca7b5bb-7a99-46c8-bb75-b9aa9eca153e",
   "metadata": {},
   "outputs": [
    {
     "name": "stdout",
     "output_type": "stream",
     "text": [
      "hihello\n"
     ]
    }
   ],
   "source": [
    "# concatenation\n",
    "print(a + b)"
   ]
  },
  {
   "cell_type": "code",
   "execution_count": 229,
   "id": "f37eb171-6d7d-40c1-a9d1-9a087848a911",
   "metadata": {},
   "outputs": [],
   "source": [
    "a = [1,2,3]\n",
    "b = [4,5,6]"
   ]
  },
  {
   "cell_type": "code",
   "execution_count": 230,
   "id": "c1963574-d728-4368-82dd-227cdf8bf3a4",
   "metadata": {},
   "outputs": [
    {
     "name": "stdout",
     "output_type": "stream",
     "text": [
      "[1, 2, 3, 4, 5, 6]\n"
     ]
    }
   ],
   "source": [
    "print(a + b)"
   ]
  },
  {
   "cell_type": "code",
   "execution_count": 231,
   "id": "20b8edfe-9f6f-4d6b-84ad-a9900e1f8658",
   "metadata": {},
   "outputs": [
    {
     "name": "stdout",
     "output_type": "stream",
     "text": [
      "True\n",
      "False\n"
     ]
    }
   ],
   "source": [
    "#containment: 포함되어 있는지를 묻는다.\n",
    "print (1 in a)\n",
    "print (2 in b)"
   ]
  },
  {
   "cell_type": "code",
   "execution_count": 232,
   "id": "6a9e0abf-2921-4689-ad5a-22d7775e5586",
   "metadata": {},
   "outputs": [
    {
     "name": "stdout",
     "output_type": "stream",
     "text": [
      "True\n",
      "True\n"
     ]
    }
   ],
   "source": [
    "# identity\n",
    "\n",
    "a = -5\n",
    "b = -5\n",
    "\n",
    "print(a == b)\n",
    "print(a is b)"
   ]
  },
  {
   "cell_type": "code",
   "execution_count": 233,
   "id": "d0cda8da-6b09-430e-8cac-39a2979d10a1",
   "metadata": {},
   "outputs": [
    {
     "name": "stdout",
     "output_type": "stream",
     "text": [
      "True\n",
      "False\n"
     ]
    }
   ],
   "source": [
    "a = 12341234\n",
    "b = 12341234\n",
    "# is는 메모리값을 비교하는 장치, 파이썬은 -5~256까지는 같은 메모리를 사용함.\n",
    "print(a == b)\n",
    "print(a is b)"
   ]
  },
  {
   "cell_type": "markdown",
   "id": "27ddc6ff-dce8-4a2e-8e5b-40e3c35e874c",
   "metadata": {},
   "source": [
    "#### 우선순위\n",
    "\n",
    "0. ()를 통한 그룹핑\n",
    "1. ** (~승)\n",
    "2. 산술연산자 (*,/)\n",
    "3. 산술연산자 (+,-)\n",
    "4. 비교연산자,in, is\n",
    "5. not\n",
    "6. and\n",
    "7. or"
   ]
  },
  {
   "cell_type": "code",
   "execution_count": 234,
   "id": "03832dd1-9633-48e1-8240-092d30cfdbb4",
   "metadata": {},
   "outputs": [
    {
     "name": "stdout",
     "output_type": "stream",
     "text": [
      "-81\n",
      "81\n"
     ]
    }
   ],
   "source": [
    "print(-3 ** 4)\n",
    "print((-3) ** 4)"
   ]
  },
  {
   "cell_type": "markdown",
   "id": "6783aede-69bc-4665-ad25-15f1ec193691",
   "metadata": {},
   "source": [
    "## 3. 형변환\n",
    "### 3.1 암시적 형변환"
   ]
  },
  {
   "cell_type": "code",
   "execution_count": 235,
   "id": "3747df0a-dd37-4124-8502-77b42d61393e",
   "metadata": {},
   "outputs": [],
   "source": [
    "a = True\n",
    "b = False\n",
    "c = 1"
   ]
  },
  {
   "cell_type": "code",
   "execution_count": 236,
   "id": "39788047-8312-4a06-a586-047bfa4830bb",
   "metadata": {},
   "outputs": [
    {
     "name": "stdout",
     "output_type": "stream",
     "text": [
      "1\n",
      "-1\n"
     ]
    }
   ],
   "source": [
    "print(a + b)\n",
    "print (b - c)"
   ]
  },
  {
   "cell_type": "code",
   "execution_count": 237,
   "id": "cac8d2e6-e9c5-4f0b-be69-2f230d860a41",
   "metadata": {},
   "outputs": [],
   "source": [
    "int_num = 3\n",
    "float_num = 3.3\n",
    "complex_num = 3 + 3j"
   ]
  },
  {
   "cell_type": "code",
   "execution_count": 238,
   "id": "ab6ed34c-e431-46cf-9e40-5677f96fc208",
   "metadata": {},
   "outputs": [
    {
     "name": "stdout",
     "output_type": "stream",
     "text": [
      "6.3\n",
      "(6.3+3j)\n",
      "<class 'complex'>\n"
     ]
    }
   ],
   "source": [
    "print(int_num + float_num)\n",
    "print(float_num + complex_num)\n",
    "print(type(float_num + complex_num))"
   ]
  },
  {
   "cell_type": "markdown",
   "id": "b703a57d-7da1-4705-a637-f0463cf8925f",
   "metadata": {},
   "source": [
    "### 3.2 명시적 형변환\n",
    "\n",
    "- int() : string, float -> int\n",
    "- float() : string, int -> float\n",
    "- str() : int, float -> string\n",
    "- bool() : int,float, string -> bool\n",
    "\n",
    "> ※ 상호 호환 가능할때만 명시적 형변환 가능"
   ]
  },
  {
   "cell_type": "code",
   "execution_count": 239,
   "id": "a6513ded-c28d-4cfd-930d-24b3ed0ff8b7",
   "metadata": {},
   "outputs": [],
   "source": [
    "a = 1\n",
    "b = '번'"
   ]
  },
  {
   "cell_type": "code",
   "execution_count": 240,
   "id": "1e6e8e61-d2d2-41da-98e7-25434d82cd58",
   "metadata": {},
   "outputs": [
    {
     "ename": "TypeError",
     "evalue": "unsupported operand type(s) for +: 'int' and 'str'",
     "output_type": "error",
     "traceback": [
      "\u001b[1;31m---------------------------------------------------------------------------\u001b[0m",
      "\u001b[1;31mTypeError\u001b[0m                                 Traceback (most recent call last)",
      "Cell \u001b[1;32mIn[240], line 1\u001b[0m\n\u001b[1;32m----> 1\u001b[0m \u001b[38;5;28mprint\u001b[39m(\u001b[43ma\u001b[49m\u001b[43m \u001b[49m\u001b[38;5;241;43m+\u001b[39;49m\u001b[43m \u001b[49m\u001b[43mb\u001b[49m)\n\u001b[0;32m      2\u001b[0m \u001b[38;5;28mprint\u001b[39m(b \u001b[38;5;241m+\u001b[39m a)\n",
      "\u001b[1;31mTypeError\u001b[0m: unsupported operand type(s) for +: 'int' and 'str'"
     ]
    }
   ],
   "source": [
    "print(a + b)"
   ]
  },
  {
   "cell_type": "code",
   "execution_count": 241,
   "id": "9cd4d14b-512c-4287-939f-338bc8d86e95",
   "metadata": {},
   "outputs": [
    {
     "ename": "TypeError",
     "evalue": "can only concatenate str (not \"int\") to str",
     "output_type": "error",
     "traceback": [
      "\u001b[1;31m---------------------------------------------------------------------------\u001b[0m",
      "\u001b[1;31mTypeError\u001b[0m                                 Traceback (most recent call last)",
      "Cell \u001b[1;32mIn[241], line 1\u001b[0m\n\u001b[1;32m----> 1\u001b[0m \u001b[38;5;28mprint\u001b[39m(\u001b[43mb\u001b[49m\u001b[43m \u001b[49m\u001b[38;5;241;43m+\u001b[39;49m\u001b[43m \u001b[49m\u001b[43ma\u001b[49m)\n",
      "\u001b[1;31mTypeError\u001b[0m: can only concatenate str (not \"int\") to str"
     ]
    }
   ],
   "source": [
    "print(b + a)"
   ]
  },
  {
   "cell_type": "code",
   "execution_count": 242,
   "id": "011f1809-d4f9-4e06-9794-e61546123f9b",
   "metadata": {},
   "outputs": [
    {
     "name": "stdout",
     "output_type": "stream",
     "text": [
      "1번\n"
     ]
    }
   ],
   "source": [
    "print(str(a) + b)"
   ]
  },
  {
   "cell_type": "code",
   "execution_count": 245,
   "id": "83232d18-124c-489c-a263-4cfd17eba412",
   "metadata": {},
   "outputs": [
    {
     "name": "stdout",
     "output_type": "stream",
     "text": [
      "<class 'str'>\n",
      "<class 'int'>\n"
     ]
    }
   ],
   "source": [
    "a = '3'\n",
    "print(type(a))\n",
    "print(type(int(a)))"
   ]
  },
  {
   "cell_type": "code",
   "execution_count": 246,
   "id": "028c1b5e-b7a8-403d-8823-9674592634b0",
   "metadata": {},
   "outputs": [
    {
     "name": "stdout",
     "output_type": "stream",
     "text": [
      "3.3\n"
     ]
    }
   ],
   "source": [
    "a = '3.3'\n",
    "print(float(a))"
   ]
  },
  {
   "cell_type": "code",
   "execution_count": 247,
   "id": "3e4ba2fc-7fa2-46bb-af87-29f3765bc4f9",
   "metadata": {},
   "outputs": [
    {
     "name": "stdout",
     "output_type": "stream",
     "text": [
      "True\n",
      "False\n"
     ]
    }
   ],
   "source": [
    "a = 1\n",
    "b = 0\n",
    "\n",
    "print(bool(a))\n",
    "print(bool(b))"
   ]
  },
  {
   "cell_type": "code",
   "execution_count": 248,
   "id": "b43b77dd-b953-410e-8b71-3dfdffa09e24",
   "metadata": {},
   "outputs": [
    {
     "name": "stdout",
     "output_type": "stream",
     "text": [
      "False\n",
      "True\n"
     ]
    }
   ],
   "source": [
    "print(bool([]))\n",
    "print(bool([1,2,3]))"
   ]
  },
  {
   "cell_type": "markdown",
   "id": "49b8edaa-8b3f-4968-9fa5-3e238798ad74",
   "metadata": {},
   "source": [
    "## 4. 시퀀스 자료형\n",
    "\n",
    "- 시퀀스는 데이터의 순서대로 나열된 자료구조\n",
    "    - 순서대로 나열되었다는 것은 정렬과는 다른 의미임\n",
    " \n",
    "1. List\n",
    "2. Tuple\n",
    "3. Range\n",
    "4. String"
   ]
  },
  {
   "cell_type": "markdown",
   "id": "86bef136-ba8a-47b9-b439-d79feeefbb4b",
   "metadata": {},
   "source": [
    "### 4.1 List (리스트, 배열, array)\n",
    "\n",
    "- 선언 : 변수이름 = [value1, value2, value3 ...]\n",
    "- 접근 : 변수이름[index]"
   ]
  },
  {
   "cell_type": "code",
   "execution_count": 250,
   "id": "7027c660-fea1-40cd-a6da-38953247cea0",
   "metadata": {},
   "outputs": [
    {
     "name": "stdout",
     "output_type": "stream",
     "text": [
      "[]\n",
      "<class 'list'>\n"
     ]
    }
   ],
   "source": [
    "l = []\n",
    "print(l)\n",
    "print(type(l))"
   ]
  },
  {
   "cell_type": "code",
   "execution_count": 260,
   "id": "695e5059-ea40-47b0-a6e7-b29f3b7743b2",
   "metadata": {},
   "outputs": [
    {
     "name": "stdout",
     "output_type": "stream",
     "text": [
      "['서울', '대전', '부산']\n",
      "서울\n",
      "광주\n",
      "['서울', '광주', '부산']\n"
     ]
    }
   ],
   "source": [
    "# 상관관계가 있는 데이터들을 표현할때 배열을 사용한다.\n",
    "location = ['서울', '대전', '부산']\n",
    "print(location)\n",
    "print(location[0])\n",
    "\n",
    "location[1] = '광주' #변수에 값을 새롭게 할당\n",
    "print(location[1])\n",
    "print(location)"
   ]
  },
  {
   "cell_type": "markdown",
   "id": "0d3520eb-ec49-4c3d-85db-f060cf27e225",
   "metadata": {},
   "source": [
    "### 4.2 Tuple (튜플)\n",
    "\n",
    "- 선언 : 변수이름 = (value1, value2, value3 ...)\n",
    "- 접근 : 변수이름[index]\n",
    "    - ※ 튜플은 리스트와 유사하지만 변수에 값을 새롭게 할당하는 수정이 불가하다. (immutable)\n",
    "    - 예시) type(divmod(a,b)) -> 'tuple'\n",
    "    - print(result[0] + result[1]) -> 접근법 리스트와 동일"
   ]
  },
  {
   "cell_type": "code",
   "execution_count": 261,
   "id": "ed6a71cc-c721-4a2e-8d84-adac5ac063bf",
   "metadata": {},
   "outputs": [
    {
     "name": "stdout",
     "output_type": "stream",
     "text": [
      "(1, 2, 3)\n",
      "2\n"
     ]
    }
   ],
   "source": [
    "numbers = (1,2,3)\n",
    "print(numbers)\n",
    "print(numbers[1])"
   ]
  },
  {
   "cell_type": "code",
   "execution_count": 262,
   "id": "130ccbd9-5a25-403b-a6bf-65fe68427e68",
   "metadata": {},
   "outputs": [
    {
     "ename": "TypeError",
     "evalue": "'tuple' object does not support item assignment",
     "output_type": "error",
     "traceback": [
      "\u001b[1;31m---------------------------------------------------------------------------\u001b[0m",
      "\u001b[1;31mTypeError\u001b[0m                                 Traceback (most recent call last)",
      "Cell \u001b[1;32mIn[262], line 1\u001b[0m\n\u001b[1;32m----> 1\u001b[0m \u001b[43mnumbers\u001b[49m\u001b[43m[\u001b[49m\u001b[38;5;241;43m1\u001b[39;49m\u001b[43m]\u001b[49m \u001b[38;5;241m=\u001b[39m \u001b[38;5;241m8\u001b[39m\n",
      "\u001b[1;31mTypeError\u001b[0m: 'tuple' object does not support item assignment"
     ]
    }
   ],
   "source": [
    "numbers[1] = 8"
   ]
  },
  {
   "cell_type": "code",
   "execution_count": 265,
   "id": "6d20f236-6eb9-41d0-a2bb-eab1d468a1a4",
   "metadata": {},
   "outputs": [
    {
     "name": "stdout",
     "output_type": "stream",
     "text": [
      "1 2\n",
      "2 1\n"
     ]
    }
   ],
   "source": [
    "x, y = (1, 2)\n",
    "print (x, y)\n",
    "x,y = y, x\n",
    "print (x, y)"
   ]
  },
  {
   "cell_type": "markdown",
   "id": "083184e7-7a8c-4c98-94b3-1d7c0178d96a",
   "metadata": {},
   "source": [
    "### 4.3 Range\n",
    "\n",
    "1. range(n) : 0부터 n-1까지의 범위 (0부터 시작하는게 전제)\n",
    "2. range(n, m) : n부터 m-1까지의 범위 (시작점과 끝점 제시)\n",
    "3. range(n, m, s) : n부터 m-1까지 +s 만큼 증가하는 범위"
   ]
  },
  {
   "cell_type": "code",
   "execution_count": 272,
   "id": "76fc5435-88a8-4169-8370-416483e1f3ac",
   "metadata": {},
   "outputs": [
    {
     "name": "stdout",
     "output_type": "stream",
     "text": [
      "range(0, 45)\n",
      "[0, 1, 2, 3, 4, 5, 6, 7, 8, 9, 10, 11, 12, 13, 14, 15, 16, 17, 18, 19, 20, 21, 22, 23, 24, 25, 26, 27, 28, 29, 30, 31, 32, 33, 34, 35, 36, 37, 38, 39, 40, 41, 42, 43, 44]\n"
     ]
    }
   ],
   "source": [
    "#1\n",
    "lotto = range(45)\n",
    "print(lotto)\n",
    "print(list(lotto))"
   ]
  },
  {
   "cell_type": "code",
   "execution_count": 269,
   "id": "f8fe983c-a159-4667-b0bc-70f65ece1358",
   "metadata": {},
   "outputs": [
    {
     "name": "stdout",
     "output_type": "stream",
     "text": [
      "range(5, 10)\n",
      "[5, 6, 7, 8, 9]\n"
     ]
    }
   ],
   "source": [
    "#2\n",
    "numbers = range(5, 10)\n",
    "print(numbers)\n",
    "print(list(numbers))"
   ]
  },
  {
   "cell_type": "code",
   "execution_count": 271,
   "id": "c05e3cfc-8c89-4bf1-81c3-7477f4c1ad80",
   "metadata": {},
   "outputs": [
    {
     "name": "stdout",
     "output_type": "stream",
     "text": [
      "range(2, 20, 2)\n",
      "[2, 4, 6, 8, 10, 12, 14, 16, 18]\n"
     ]
    }
   ],
   "source": [
    "#3\n",
    "even = range(2, 20, 2)\n",
    "print(even)\n",
    "print(list(even))"
   ]
  },
  {
   "cell_type": "code",
   "execution_count": 273,
   "id": "90faf6ef-ecfc-4537-8552-8f3763efaf9b",
   "metadata": {},
   "outputs": [
    {
     "name": "stdout",
     "output_type": "stream",
     "text": [
      "range(0, -10, -2)\n",
      "[0, -2, -4, -6, -8]\n"
     ]
    }
   ],
   "source": [
    "numbers = range(0, -10, -2)\n",
    "print(numbers)\n",
    "print(list(numbers))"
   ]
  },
  {
   "cell_type": "markdown",
   "id": "10b341c1-60a3-4199-bc2b-890cb214ea61",
   "metadata": {},
   "source": [
    "### 4.4 String\n",
    "\n",
    "기본 데이터 구조 참고"
   ]
  },
  {
   "cell_type": "markdown",
   "id": "2e0e4c0c-9b5b-4176-9fac-4f587a74afbf",
   "metadata": {},
   "source": [
    "### 4.5 시퀀스에서 활용가능한 연산/함수"
   ]
  },
  {
   "cell_type": "code",
   "execution_count": 280,
   "id": "723cb2ae-19f9-44f3-b8ee-160b1a7f642e",
   "metadata": {},
   "outputs": [],
   "source": [
    "my_list = [1, 2, 3, 4, 5]\n",
    "my_tuple = (1, 2, 3, 4, 5)\n",
    "my_range = range(5)\n",
    "my_string = '12345'"
   ]
  },
  {
   "cell_type": "code",
   "execution_count": 281,
   "id": "3084b24b-3405-42c3-95e0-f85e40105d2e",
   "metadata": {},
   "outputs": [
    {
     "name": "stdout",
     "output_type": "stream",
     "text": [
      "1\n",
      "1\n",
      "0\n",
      "1\n"
     ]
    }
   ],
   "source": [
    "# 시퀀스 데이터는 모두 indexing이 가능하다.\n",
    "print(my_list[0])\n",
    "print(my_list[0])\n",
    "print(my_range[0])\n",
    "print(my_string[0])"
   ]
  },
  {
   "cell_type": "code",
   "execution_count": 282,
   "id": "664e798d-fac6-489a-83a7-beea9eeb345c",
   "metadata": {},
   "outputs": [
    {
     "name": "stdout",
     "output_type": "stream",
     "text": [
      "[2, 3]\n",
      "(2, 3)\n",
      "range(1, 3)\n",
      "23\n",
      "13\n"
     ]
    }
   ],
   "source": [
    "# 시퀀스 데이터는 일부만 slicing해서 볼 수 있다. a:b\n",
    "print(my_list[1:3]) # 1이상 3미만\n",
    "print(my_tuple[1:3]) # 1<= x < 3\n",
    "print(my_range[1:3])\n",
    "print(my_string[1:3])\n",
    "\n",
    "print(my_string[0:4:2])"
   ]
  },
  {
   "cell_type": "code",
   "execution_count": 286,
   "id": "e0aa41be-7c3c-419c-b1bd-ecde12505e97",
   "metadata": {},
   "outputs": [
    {
     "name": "stdout",
     "output_type": "stream",
     "text": [
      "True\n",
      "True\n",
      "True\n",
      "False\n"
     ]
    }
   ],
   "source": [
    "# in\n",
    "print(1 in my_list)\n",
    "print(1 in my_tuple)\n",
    "print('1' in my_string)\n",
    "\n",
    "# not in\n",
    "print(1 not in my_range)"
   ]
  },
  {
   "cell_type": "code",
   "execution_count": 292,
   "id": "badc1172-1ee1-4374-b639-7c8b05dcb6de",
   "metadata": {},
   "outputs": [
    {
     "name": "stdout",
     "output_type": "stream",
     "text": [
      "[1, 2, 3, 4, 5, 6, 7, 8, 9, 10]\n",
      "(1, 2, 3, 4, 5, 6, 7, 8, 9, 10)\n",
      "12345678910\n"
     ]
    }
   ],
   "source": [
    "# concatenation\n",
    "print(my_list + [6, 7, 8, 9, 10])\n",
    "print(my_tuple + (6, 7, 8, 9, 10))\n",
    "print(my_string + '678910')"
   ]
  },
  {
   "cell_type": "code",
   "execution_count": 298,
   "id": "3274d589-937b-4ccf-bea5-0127d9f54d6c",
   "metadata": {},
   "outputs": [
    {
     "name": "stdout",
     "output_type": "stream",
     "text": [
      "##################################################\n",
      "[0, 0, 0, 0, 0, 0, 0, 0, 0, 0, 0, 0, 0, 0, 0, 0, 0, 0, 0, 0]\n"
     ]
    }
   ],
   "source": [
    "# *\n",
    "print('#'*50)\n",
    "print([0] * 20)"
   ]
  },
  {
   "cell_type": "code",
   "execution_count": 299,
   "id": "82aeb60b-a355-4421-980b-5db9a6499585",
   "metadata": {},
   "outputs": [
    {
     "name": "stdout",
     "output_type": "stream",
     "text": [
      "5\n"
     ]
    }
   ],
   "source": [
    "print(len(my_list))"
   ]
  },
  {
   "cell_type": "code",
   "execution_count": 300,
   "id": "8a6ddebf-a12e-4fd5-8d40-05b07276b56d",
   "metadata": {},
   "outputs": [
    {
     "name": "stdout",
     "output_type": "stream",
     "text": [
      "5\n"
     ]
    }
   ],
   "source": [
    "print(max(my_list))"
   ]
  },
  {
   "cell_type": "code",
   "execution_count": 301,
   "id": "443daec9-59e4-4695-a54d-a338b2e5c187",
   "metadata": {},
   "outputs": [
    {
     "name": "stdout",
     "output_type": "stream",
     "text": [
      "1\n"
     ]
    }
   ],
   "source": [
    "print(min(my_list))"
   ]
  },
  {
   "cell_type": "markdown",
   "id": "7b1e96ce-d5f3-4da2-a5c2-e74588111a04",
   "metadata": {},
   "source": [
    "## 5. 시퀀스형이 아닌 자료구조\n",
    "\n",
    "### 5.1 Set\n",
    "수학에서 사용하는 집합과 동일한 개념\n",
    "\n",
    "- 선언 : 변수이름 = {value1, value2, value3 ...}"
   ]
  },
  {
   "cell_type": "code",
   "execution_count": 309,
   "id": "e4fec783-2d2e-417f-97ef-b17d42609de0",
   "metadata": {},
   "outputs": [],
   "source": [
    "my_set_a = {1, 3, 5, 7, 9}\n",
    "my_set_b = {1, 2, 3, 4, 5}"
   ]
  },
  {
   "cell_type": "code",
   "execution_count": 310,
   "id": "3882b6c2-0975-4180-aedb-ba0ac9f3ea20",
   "metadata": {},
   "outputs": [
    {
     "name": "stdout",
     "output_type": "stream",
     "text": [
      "{9, 7}\n",
      "{1, 2, 3, 4, 5, 7, 9}\n",
      "{1, 3, 5}\n"
     ]
    }
   ],
   "source": [
    "print(my_set_a - my_set_b)\n",
    "print(my_set_a | my_set_b) # +의 의미\n",
    "print(my_set_a & my_set_b)"
   ]
  },
  {
   "cell_type": "code",
   "execution_count": 311,
   "id": "10b830eb-5e59-4525-8736-90a054c24a40",
   "metadata": {},
   "outputs": [],
   "source": [
    "test_set = {1,2,3,4,5,2,3,6,3,1,2,3,4}"
   ]
  },
  {
   "cell_type": "markdown",
   "id": "f4e6fc37-4e22-4da3-b7db-6d3155d953b0",
   "metadata": {},
   "source": [
    "### 5.2 Dictionary\n",
    "\n",
    "- 선언 : 변수이름 = {key1: value1, key2: value2, ...}\n",
    "- 접근 : 변수이름[key]\n",
    "\n",
    "> 데이터를 순서대로 정리?하는게 목적이 아닌 키:값(키워드:정의)의 사전구조로 이루어짐"
   ]
  },
  {
   "cell_type": "code",
   "execution_count": 312,
   "id": "73aea940-980f-4714-9676-a80d4e537eb8",
   "metadata": {},
   "outputs": [
    {
     "name": "stdout",
     "output_type": "stream",
     "text": [
      "{'서울': '02', '경기': '031', '대전': '042'}\n",
      "02\n"
     ]
    }
   ],
   "source": [
    "my_dict = {'서울': '02', '경기': '031', '대전': '042'}\n",
    "print(my_dict)\n",
    "print(my_dict['서울'])"
   ]
  },
  {
   "cell_type": "code",
   "execution_count": 317,
   "id": "f43d9647-e16f-4d9c-b67b-7b548d8c4198",
   "metadata": {},
   "outputs": [
    {
     "name": "stdout",
     "output_type": "stream",
     "text": [
      "South Korea\n"
     ]
    }
   ],
   "source": [
    "my_info = {\n",
    "    'name' : 'J.A',\n",
    "    'location' : 'Daejeon',\n",
    "    'birth_year' : 1994,\n",
    "    'country' : 'South Korea'\n",
    "}\n",
    "\n",
    "print(my_info['country'])"
   ]
  },
  {
   "cell_type": "code",
   "execution_count": 321,
   "id": "afbcc99e-10f1-49d9-90cd-6ba60fd60620",
   "metadata": {},
   "outputs": [
    {
     "data": {
      "text/plain": [
       "dict_keys(['name', 'location', 'birth_year', 'country'])"
      ]
     },
     "execution_count": 321,
     "metadata": {},
     "output_type": "execute_result"
    }
   ],
   "source": [
    "my_info.keys() #키워드 목록을 보여줌"
   ]
  },
  {
   "cell_type": "code",
   "execution_count": 322,
   "id": "935a752d-3dd6-4251-845e-33f577e2491a",
   "metadata": {},
   "outputs": [
    {
     "data": {
      "text/plain": [
       "dict_values(['J.A', 'Daejeon', 1994, 'South Korea'])"
      ]
     },
     "execution_count": 322,
     "metadata": {},
     "output_type": "execute_result"
    }
   ],
   "source": [
    "my_info.values() #값 목록을 보여줌"
   ]
  },
  {
   "cell_type": "markdown",
   "id": "ccd15be3-9eaf-4b1e-bcea-5bec72c993c7",
   "metadata": {},
   "source": [
    "#### 자료구조\n",
    "\n",
    "- 시퀀스 자료형\n",
    "\n",
    "1. [List] : mutable\n",
    "2. (Tuple) : immutable\n",
    "3. range() : immutable\n",
    "4. 'String' : immutable\n",
    "\n",
    "- 시퀀스가 아닌 자료형\n",
    "\n",
    "1. {Set} : mutalbe\n",
    "2. "
   ]
  }
 ],
 "metadata": {
  "kernelspec": {
   "display_name": "Python 3 (ipykernel)",
   "language": "python",
   "name": "python3"
  },
  "language_info": {
   "codemirror_mode": {
    "name": "ipython",
    "version": 3
   },
   "file_extension": ".py",
   "mimetype": "text/x-python",
   "name": "python",
   "nbconvert_exporter": "python",
   "pygments_lexer": "ipython3",
   "version": "3.12.4"
  }
 },
 "nbformat": 4,
 "nbformat_minor": 5
}
