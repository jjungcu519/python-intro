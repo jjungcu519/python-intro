{
 "cells": [
  {
   "cell_type": "markdown",
   "id": "765c42d1-9a70-482e-ad22-b80377dad4e0",
   "metadata": {},
   "source": [
    "# 객체지향 프로그래밍 (OOP)"
   ]
  },
  {
   "cell_type": "markdown",
   "id": "414e6e7d-21e3-4c01-9581-3dfc469010fc",
   "metadata": {},
   "source": [
    "~용어정리~\n",
    "- 클래스 (class) : 같은 종류의 집단에 속하는 속성과 행위를 정의한 것 (ex. 붕어빵 틀, 관념적 붕어빵? 이상적 붕어빵? 붕어빵의 이데아?)\n",
    "- 인스턴스(instance) : 클래스를 실제로 메모리상에 할당한 것 (ex. 실제 따끈따끈 붕어빵, 존재하는 붕어빵 ㅋㅋㅋ)\n",
    "- 속성(attribute) : 클래스/인스턴스가 가지고 있는 **데이터/값** a.\n",
    "- 행위(method) : 클래스/인스턴스가 가지고 있는 **함수/기능** v."
   ]
  },
  {
   "cell_type": "code",
   "execution_count": 8,
   "id": "315d982c-6954-41ca-8f98-ead05bd9287c",
   "metadata": {},
   "outputs": [
    {
     "data": {
      "text/plain": [
       "complex"
      ]
     },
     "execution_count": 8,
     "metadata": {},
     "output_type": "execute_result"
    }
   ],
   "source": [
    "number = 1 + 2j\n",
    "type(number)"
   ]
  },
  {
   "cell_type": "code",
   "execution_count": 9,
   "id": "736d37f5-b364-4289-a461-4199100ab40c",
   "metadata": {},
   "outputs": [
    {
     "name": "stdout",
     "output_type": "stream",
     "text": [
      "1.0\n",
      "2.0\n"
     ]
    }
   ],
   "source": [
    "print(number.real)\n",
    "print(number.imag) #속성"
   ]
  },
  {
   "cell_type": "code",
   "execution_count": 10,
   "id": "429c25e6-d6a6-429f-aebe-23f899a21338",
   "metadata": {},
   "outputs": [
    {
     "data": {
      "text/plain": [
       "list"
      ]
     },
     "execution_count": 10,
     "metadata": {},
     "output_type": "execute_result"
    }
   ],
   "source": [
    "numbers = [1, 2, 3]\n",
    "type(numbers)"
   ]
  },
  {
   "cell_type": "code",
   "execution_count": 11,
   "id": "218f4c2f-60b8-4eca-95db-bcde3441038d",
   "metadata": {},
   "outputs": [
    {
     "name": "stdout",
     "output_type": "stream",
     "text": [
      "[3, 2, 1]\n"
     ]
    }
   ],
   "source": [
    "numbers.reverse()\n",
    "print(numbers) #메쏘드"
   ]
  },
  {
   "cell_type": "code",
   "execution_count": 12,
   "id": "4fe636d8-541a-42e9-a531-4e433688a25c",
   "metadata": {},
   "outputs": [
    {
     "name": "stdout",
     "output_type": "stream",
     "text": [
      "[3, 2, 1, 10]\n"
     ]
    }
   ],
   "source": [
    "dir(numbers)\n",
    "numbers.append(10)\n",
    "print(numbers) #왜 3번 들어가?"
   ]
  },
  {
   "cell_type": "code",
   "execution_count": 13,
   "id": "600f81a9-4ccb-42b9-a5db-8fd21d2ba543",
   "metadata": {},
   "outputs": [
    {
     "name": "stdout",
     "output_type": "stream",
     "text": [
      "010-1234-1234에서 010-000-000로 전화거는중\n"
     ]
    }
   ],
   "source": [
    "power = False\n",
    "number = '010-1234-1234'\n",
    "book = {\n",
    "    'kim' : '010-000-000',\n",
    "    'park' : '010-1302-1820',\n",
    "}\n",
    "\n",
    "def call(from_number, to_number):\n",
    "    print(f'{from_number}에서 {to_number}로 전화거는중')\n",
    "\n",
    "call(number, book['kim'])"
   ]
  },
  {
   "cell_type": "markdown",
   "id": "bbcd33e3-e545-4e7e-80ca-5045518723bb",
   "metadata": {},
   "source": [
    "## Class\n",
    "\n",
    "- **클래스 선언** *(클래스 선언시에는 카멜케이스, 변수 지정시에는 스네이크 케이스 사용)*\n",
    "\n",
    " ```python\n",
    "class ClassName():\n",
    "    attribute1 = value1\n",
    "    attribute2 = value2\n",
    "    \n",
    "    def method1_name1(self):\n",
    "        code\n",
    "    def method2_name2(self):\n",
    "        code\n",
    " ```\n",
    "\n",
    "- 인스턴스화 **(클래스 실행)**\n",
    "```python\n",
    "c = ClassName()\n",
    "```"
   ]
  },
  {
   "cell_type": "code",
   "execution_count": 14,
   "id": "b484b634-ec85-4c97-a63f-659612567d5c",
   "metadata": {},
   "outputs": [],
   "source": [
    "#선언 (공장 틀 만들기)\n",
    "class MyClass():\n",
    "    name = 'kim' #attribute?\n",
    "\n",
    "    def hello(self): #method?\n",
    "        return('hello')"
   ]
  },
  {
   "cell_type": "code",
   "execution_count": 15,
   "id": "6662a048-bc8d-4f83-b25a-279cca140c76",
   "metadata": {},
   "outputs": [
    {
     "name": "stdout",
     "output_type": "stream",
     "text": [
      "<__main__.MyClass object at 0x000001B6ECA12A50>\n",
      "<class '__main__.MyClass'>\n"
     ]
    }
   ],
   "source": [
    "#인스턴스화 (찍어내기)\n",
    "m = MyClass()\n",
    "print(m)\n",
    "print(type(m))"
   ]
  },
  {
   "cell_type": "code",
   "execution_count": 16,
   "id": "9a5bbe1e-3d4f-4c8a-bbdd-c9b2ed0bda49",
   "metadata": {},
   "outputs": [
    {
     "name": "stdout",
     "output_type": "stream",
     "text": [
      "kim\n",
      "hello\n"
     ]
    }
   ],
   "source": [
    "print(m.name)\n",
    "print(m.hello())"
   ]
  },
  {
   "cell_type": "code",
   "execution_count": 17,
   "id": "fcdd37c3-d7a6-41bd-98c6-c5e8cea59733",
   "metadata": {},
   "outputs": [
    {
     "name": "stdout",
     "output_type": "stream",
     "text": [
      "<__main__.MyClass object at 0x000001B6ECA13E00>\n"
     ]
    }
   ],
   "source": [
    "m2 = MyClass() #새변수에 할당 (다른 붕어빵)\n",
    "print(m2)"
   ]
  },
  {
   "cell_type": "code",
   "execution_count": 18,
   "id": "e8c8eeee-4e13-41cc-8210-dd54e5bf1ed5",
   "metadata": {},
   "outputs": [
    {
     "name": "stdout",
     "output_type": "stream",
     "text": [
      "park\n",
      "hello\n"
     ]
    }
   ],
   "source": [
    "m2.name = 'park' #커스터마이즈?\n",
    "print(m2.name)\n",
    "print(m2.hello())"
   ]
  },
  {
   "cell_type": "code",
   "execution_count": 19,
   "id": "ec78a1f5-d9cb-4dc3-be33-397a6b078dc4",
   "metadata": {},
   "outputs": [],
   "source": [
    "class Phone():\n",
    "    power = False\n",
    "    number = '010-0000-0000'\n",
    "    book = {}\n",
    "    model = ''\n",
    "\n",
    "    def on(self):\n",
    "        if self.power == False: #비교\n",
    "            self.power = True   #할당\n",
    "            \n",
    "    def off(self):\n",
    "        if self.power == True:\n",
    "            self.power = False\n",
    "            \n",
    "    def call(self, target):\n",
    "        if self.power == True:\n",
    "            print(f'{self.number}에서 {target}로 전화거는중')\n",
    "        else:\n",
    "            print('핸드폰이 꺼져있습니다.')"
   ]
  },
  {
   "cell_type": "code",
   "execution_count": 20,
   "id": "0e09e11e-8563-42bf-9e4d-381b28b2f78c",
   "metadata": {},
   "outputs": [],
   "source": [
    "my_phone = Phone()\n",
    "your_phone = Phone()"
   ]
  },
  {
   "cell_type": "code",
   "execution_count": 21,
   "id": "bd305abc-7cdd-4815-9545-5d914eaf1ce4",
   "metadata": {},
   "outputs": [
    {
     "name": "stdout",
     "output_type": "stream",
     "text": [
      "010-5120-7149\n"
     ]
    }
   ],
   "source": [
    "my_phone.number = '010-5120-7149'\n",
    "print(my_phone.number)"
   ]
  },
  {
   "cell_type": "code",
   "execution_count": 22,
   "id": "4d866bac-2c80-4a9c-bf1d-b49d3f48321d",
   "metadata": {},
   "outputs": [
    {
     "name": "stdout",
     "output_type": "stream",
     "text": [
      "010-7149-5120\n"
     ]
    }
   ],
   "source": [
    "your_phone.number = '010-7149-5120'\n",
    "print(your_phone.number)"
   ]
  },
  {
   "cell_type": "code",
   "execution_count": 23,
   "id": "721662b1-93ec-49e6-8144-e7366d5e65a1",
   "metadata": {},
   "outputs": [
    {
     "name": "stdout",
     "output_type": "stream",
     "text": [
      "핸드폰이 꺼져있습니다.\n"
     ]
    }
   ],
   "source": [
    "my_phone.call(your_phone.number)"
   ]
  },
  {
   "cell_type": "code",
   "execution_count": 24,
   "id": "43b2088c-51c0-4162-a493-a2f672a63510",
   "metadata": {},
   "outputs": [
    {
     "name": "stdout",
     "output_type": "stream",
     "text": [
      "010-5120-7149에서 010-7149-5120로 전화거는중\n",
      "010-5120-7149에서 112로 전화거는중\n"
     ]
    }
   ],
   "source": [
    "my_phone.on()\n",
    "#print(my_phone.power)\n",
    "my_phone.call(your_phone.number)\n",
    "my_phone.call('112')"
   ]
  },
  {
   "cell_type": "code",
   "execution_count": 25,
   "id": "0dbed721-680b-4ea8-9bc8-313da1985947",
   "metadata": {},
   "outputs": [
    {
     "name": "stdout",
     "output_type": "stream",
     "text": [
      "010-7149-5120에서 119로 전화거는중\n"
     ]
    }
   ],
   "source": [
    "your_phone.on()\n",
    "your_phone.call('119')"
   ]
  },
  {
   "cell_type": "code",
   "execution_count": 33,
   "id": "7d3915e1-5ea9-4e77-9c25-ea578f55c7db",
   "metadata": {},
   "outputs": [],
   "source": [
    "#강사님 code\n",
    "\n",
    "class MyList():\n",
    "\n",
    "    data = []\n",
    "\n",
    "    def append(self, item):\n",
    "        self.data = self.data + [item]\n",
    "    def pop(self):\n",
    "        result = self.data[-1]\n",
    "        self.data = self.data[:-1]\n",
    "        return result"
   ]
  },
  {
   "cell_type": "code",
   "execution_count": 34,
   "id": "62c9e51b-7ed3-483a-905c-3a20b8b8fd6d",
   "metadata": {},
   "outputs": [],
   "source": [
    "#내 code\n",
    "#변수,속성,메써드에서 헤매는 중인듯 지역변수, 전역변수\n",
    "#class MyList():\n",
    "    \n",
    "#    data = []\n",
    "    \n",
    "#    def append(self,item):\n",
    "#        list_a.data += list_a.data\n",
    "#    def pop(self):\n",
    "#        list_a.data -= list_a.data"
   ]
  },
  {
   "cell_type": "code",
   "execution_count": 35,
   "id": "e160d6ae-7ec8-44ef-8582-68113ddcd9d6",
   "metadata": {},
   "outputs": [
    {
     "name": "stdout",
     "output_type": "stream",
     "text": [
      "[]\n",
      "[5]\n",
      "[5, 10]\n",
      "[5]\n"
     ]
    }
   ],
   "source": [
    "#응 안돼~\n",
    "list_a = MyList()\n",
    "\n",
    "print(list_a.data) # -> []\n",
    "\n",
    "list_a.append(5)\n",
    "print(list_a.data) # -> [5]\n",
    "list_a.append(10)\n",
    "print(list_a.data) # -> [5,10]\n",
    "\n",
    "list_a.pop()\n",
    "print(list_a.data) # -> [5]"
   ]
  },
  {
   "cell_type": "code",
   "execution_count": 36,
   "id": "f4c731e0-e75c-48c2-a898-475d451ee8e6",
   "metadata": {},
   "outputs": [
    {
     "data": {
      "text/plain": [
       "[5]"
      ]
     },
     "execution_count": 36,
     "metadata": {},
     "output_type": "execute_result"
    }
   ],
   "source": [
    "list_a.data"
   ]
  },
  {
   "cell_type": "code",
   "execution_count": 37,
   "id": "eb94517f-c63b-4b27-a170-69f0dabff465",
   "metadata": {},
   "outputs": [
    {
     "name": "stdout",
     "output_type": "stream",
     "text": [
      "['일', '이', '삼사']\n"
     ]
    }
   ],
   "source": [
    "list_b = MyList()\n",
    "list_b.append('일')\n",
    "list_b.append('이')\n",
    "list_b.append('삼사')\n",
    "print(list_b.data)"
   ]
  },
  {
   "cell_type": "markdown",
   "id": "96055381-335a-4c12-ac7b-313bf22f0790",
   "metadata": {},
   "source": [
    "## 생성자, 소멸자\n",
    "*턱별한 함수*\n",
    "```python\n",
    "class Person():\n",
    "    name = 'kim'\n",
    "\n",
    "    def __init__(self):\n",
    "        pass\n",
    "    def__del--(self):\n",
    "        pass\n",
    "```"
   ]
  },
  {
   "cell_type": "code",
   "execution_count": 89,
   "id": "27346173-05c1-4a7a-918e-4035c6c9537c",
   "metadata": {},
   "outputs": [],
   "source": [
    "class Person():\n",
    "    name = '' #데이터 할당 =띄어쓰기\n",
    "\n",
    "    def __init__(self, name='익명'): #기본값=붙여쓰기\n",
    "        self.name = name\n",
    "        print('생성됨')\n",
    "        pass\n",
    "        \n",
    "    def __del__(self): #garbage collector\n",
    "        print('소멸됨')"
   ]
  },
  {
   "cell_type": "code",
   "execution_count": 113,
   "id": "b847d5cd-a5da-4814-a247-b60fec515a4d",
   "metadata": {},
   "outputs": [
    {
     "name": "stdout",
     "output_type": "stream",
     "text": [
      "생성됨\n",
      "소멸됨\n",
      "kim\n"
     ]
    }
   ],
   "source": [
    "p1 = Person('kim') #인스턴스화한다 = 내부에 있는 init이라는 함수를 실행한다\n",
    "print(p1.name)"
   ]
  },
  {
   "cell_type": "code",
   "execution_count": 105,
   "id": "51356e9d-a436-456d-bedf-f7c62117bdfe",
   "metadata": {},
   "outputs": [
    {
     "name": "stdout",
     "output_type": "stream",
     "text": [
      "생성됨\n",
      "소멸됨\n",
      "익명\n"
     ]
    }
   ],
   "source": [
    "p2 = Person()\n",
    "print(p2.name)"
   ]
  },
  {
   "cell_type": "code",
   "execution_count": 114,
   "id": "af674279-f41d-44b8-8676-024e57c41548",
   "metadata": {},
   "outputs": [
    {
     "name": "stdout",
     "output_type": "stream",
     "text": [
      "소멸됨\n"
     ]
    }
   ],
   "source": [
    "del p2"
   ]
  },
  {
   "cell_type": "code",
   "execution_count": 144,
   "id": "554a9bd1-c697-46ca-8cb8-09fca8c46149",
   "metadata": {},
   "outputs": [],
   "source": [
    "#원을 정의하고 사용해보자\n",
    "class Circle():\n",
    "    \n",
    "    PI = 3.14\n",
    "\n",
    "    def __init__(self, r, x=0, y=0):\n",
    "        self.r = r\n",
    "        self.x = x\n",
    "        self.y = y\n",
    "\n",
    "    def area(self):\n",
    "        return self.PI * self.r ** 2\n",
    "\n",
    "    def center(self):\n",
    "        return (self.x, self.y)\n",
    "\n",
    "    def move(self, x, y):\n",
    "        self.x = x\n",
    "        self.y = y\n",
    "        print(f'원의 중심이{x},{y}로 이동했습니다.')\n",
    "        \n",
    "    def round(self):\n",
    "        return self.PI * self.r * 2"
   ]
  },
  {
   "cell_type": "code",
   "execution_count": 145,
   "id": "9da335db-2de7-40dc-8a9b-054f6faaace7",
   "metadata": {},
   "outputs": [],
   "source": [
    "c1 = Circle(5)\n",
    "c2 = Circle(10, 3, 3)"
   ]
  },
  {
   "cell_type": "code",
   "execution_count": 146,
   "id": "d2a3f2ca-f603-4e33-aa34-fc8abf8d137c",
   "metadata": {},
   "outputs": [
    {
     "name": "stdout",
     "output_type": "stream",
     "text": [
      "78.5\n",
      "314.0\n"
     ]
    }
   ],
   "source": [
    "print(c1.area())\n",
    "print(c2.area())"
   ]
  },
  {
   "cell_type": "code",
   "execution_count": 147,
   "id": "a9069950-ecca-47cc-80f8-14f7add19898",
   "metadata": {},
   "outputs": [
    {
     "name": "stdout",
     "output_type": "stream",
     "text": [
      "(0, 0)\n",
      "(3, 3)\n"
     ]
    }
   ],
   "source": [
    "print(c1.center())\n",
    "print(c2.center())"
   ]
  },
  {
   "cell_type": "code",
   "execution_count": 148,
   "id": "6165c48d-091e-4cbd-8d8c-8a567e2aa472",
   "metadata": {},
   "outputs": [
    {
     "name": "stdout",
     "output_type": "stream",
     "text": [
      "원의 중심이10,2로 이동했습니다.\n",
      "None\n"
     ]
    }
   ],
   "source": [
    "print(c1.move(10,2))"
   ]
  },
  {
   "cell_type": "code",
   "execution_count": 149,
   "id": "4cd9807a-522f-43d4-a7c2-f5bfb36aa3e6",
   "metadata": {},
   "outputs": [
    {
     "name": "stdout",
     "output_type": "stream",
     "text": [
      "31.400000000000002\n"
     ]
    }
   ],
   "source": [
    "print(c1.round())"
   ]
  },
  {
   "cell_type": "code",
   "execution_count": 161,
   "id": "6fda30f7-7a2a-4d4d-acad-167e47494178",
   "metadata": {},
   "outputs": [],
   "source": [
    "#case2\n",
    "class Point():\n",
    "    def __init__(self, x, y):\n",
    "        self.x = x\n",
    "        self.y = y\n",
    "    def info(self):\n",
    "        return (self.x, self.y)"
   ]
  },
  {
   "cell_type": "code",
   "execution_count": 171,
   "id": "f86e0c41-5ceb-4325-8ba9-5b7949dc7984",
   "metadata": {},
   "outputs": [],
   "source": [
    "class Circle():\n",
    "    def __init__(self, p, r):\n",
    "        self.p = p\n",
    "        self.r = r\n",
    "    def info(self):\n",
    "        return (self.p.x, self.p.y, self.r)\n",
    "    def move(self, x, y):\n",
    "        self.p.x = x\n",
    "        self.p.y = y"
   ]
  },
  {
   "cell_type": "code",
   "execution_count": 172,
   "id": "a4832047-ee10-4912-9bc9-b7eb7b5bc727",
   "metadata": {},
   "outputs": [
    {
     "name": "stdout",
     "output_type": "stream",
     "text": [
      "(1, 2)\n"
     ]
    }
   ],
   "source": [
    "p1 = Point(1, 2)\n",
    "print(p1.info())"
   ]
  },
  {
   "cell_type": "code",
   "execution_count": 173,
   "id": "b7188d6d-3524-4a0a-b390-878161a1b5ad",
   "metadata": {},
   "outputs": [
    {
     "name": "stdout",
     "output_type": "stream",
     "text": [
      "(1, 2, 5)\n"
     ]
    }
   ],
   "source": [
    "c1 = Circle(p1, 5)\n",
    "print(c1.info())"
   ]
  },
  {
   "cell_type": "code",
   "execution_count": 174,
   "id": "f0a24d81-0ee0-46b9-8bfb-2d728bb71914",
   "metadata": {},
   "outputs": [
    {
     "name": "stdout",
     "output_type": "stream",
     "text": [
      "(5, 5, 5)\n"
     ]
    }
   ],
   "source": [
    "c1.move(5, 5)\n",
    "print(c1.info())"
   ]
  },
  {
   "cell_type": "markdown",
   "id": "e0b2a2a2-08b3-4e83-b719-076568448404",
   "metadata": {},
   "source": [
    "### 클래스 변수\n",
    "- 클래스 선언 블록 최상단에 위치\n",
    "### 인스턴스 변수\n",
    "- 인스턴스 내부에서 생성한 변수(`self.variable =`)\n",
    "\n",
    "```python\n",
    "class MyClass():\n",
    "    class_variable = '클래스변수' ##인스턴스에 해당 변수, 속성이 없더라도 클래스에서 찾을 수 있다?\n",
    "\n",
    "def __init__(self):\n",
    "    self.instance_variable = '인스턴스변수' ##독자적으로 변수를 가질 수 있다? 우선 순위: 인스턴스 변수\n",
    "\n",
    "```"
   ]
  },
  {
   "cell_type": "code",
   "execution_count": 181,
   "id": "7e298fe9-618f-4809-b157-9b7cdc6a9e03",
   "metadata": {},
   "outputs": [],
   "source": [
    "class Person():\n",
    "    \n",
    "    phone = '010-1234-1234'\n",
    "\n",
    "    def __init__(self, name):\n",
    "        self.name = name"
   ]
  },
  {
   "cell_type": "code",
   "execution_count": 182,
   "id": "5a87db06-ad8b-47b2-ad09-12191d1ab998",
   "metadata": {},
   "outputs": [
    {
     "name": "stdout",
     "output_type": "stream",
     "text": [
      "김정아\n",
      "010-1234-1234\n"
     ]
    }
   ],
   "source": [
    "p1 = Person('김정아')\n",
    "print(p1.name)\n",
    "print(p1.phone)"
   ]
  },
  {
   "cell_type": "markdown",
   "id": "bb8e0cb7-dbcd-4816-b0b9-33131c31c637",
   "metadata": {},
   "source": [
    "### 클래스 메소드, 인스턴스 메소드, 스태틱 메소드\n",
    "\n",
    "```python\n",
    "class Myclass():\n",
    "    def instance_method(self):\n",
    "        pass\n",
    "\n",
    "    @classmethod\n",
    "    def class_method(cls):\n",
    "        pass\n",
    "\n",
    "    @staticmethod\n",
    "    def static_method():\n",
    "        pass\n",
    "```"
   ]
  },
  {
   "cell_type": "code",
   "execution_count": 183,
   "id": "7345dc73-b9b7-4e28-81e7-ceed130cf08c",
   "metadata": {},
   "outputs": [],
   "source": [
    "class MyClass():\n",
    "    def instance_method(self):\n",
    "        return self\n",
    "\n",
    "    @classmethod\n",
    "    def class_method(cls):\n",
    "        return cls\n",
    "\n",
    "    @staticmethod\n",
    "    def static_method():\n",
    "        return 'hello'"
   ]
  },
  {
   "cell_type": "code",
   "execution_count": 184,
   "id": "8846c10d-8aea-498e-931d-4b80931de953",
   "metadata": {},
   "outputs": [
    {
     "name": "stdout",
     "output_type": "stream",
     "text": [
      "<__main__.MyClass object at 0x000001E58A346BD0>\n",
      "<class '__main__.MyClass'>\n"
     ]
    }
   ],
   "source": [
    "c1 = MyClass()\n",
    "#위와 아래의 차이점은?\n",
    "print(c1.instance_method())\n",
    "print(MyClass.class_method())"
   ]
  },
  {
   "cell_type": "code",
   "execution_count": 185,
   "id": "8826d54b-9e8b-4e5f-b2eb-6097371fa763",
   "metadata": {},
   "outputs": [],
   "source": [
    "#따라서 타이핑 해보기\n",
    "class Puppy():\n",
    "    num_of_puppy = 0\n",
    "\n",
    "    def __init__(self, name):\n",
    "        self.name = name\n",
    "        Puppy.num_of_puppy += 1\n",
    "\n",
    "    @classmethod\n",
    "    def get_status(cls):\n",
    "        print(f'현재 강아지는 {cls.num_of_puppy}마리입니다.')\n",
    "\n",
    "    @staticmethod\n",
    "    def bark():\n",
    "        print('멍멍')\n",
    "\n",
    "    def bark2(self):\n",
    "        print(f'내이름은{self.name}이야. 멍멍')"
   ]
  },
  {
   "cell_type": "code",
   "execution_count": 186,
   "id": "100f860e-b948-4e94-b601-89cacdbf87bf",
   "metadata": {},
   "outputs": [
    {
     "name": "stdout",
     "output_type": "stream",
     "text": [
      "현재 강아지는 3마리입니다.\n",
      "멍멍\n",
      "내이름은초코이야. 멍멍\n",
      "내이름은인절미이야. 멍멍\n",
      "내이름은별이이야. 멍멍\n"
     ]
    }
   ],
   "source": [
    "#따라서 타이핑 해보기\n",
    "p1 = Puppy('초코')\n",
    "p2 = Puppy('인절미')\n",
    "p3 = Puppy('별이')\n",
    "\n",
    "Puppy.get_status()\n",
    "\n",
    "p1.bark()\n",
    "p1.bark2()\n",
    "p2.bark2()\n",
    "p3.bark2()"
   ]
  },
  {
   "cell_type": "markdown",
   "id": "29b30f84-52cb-4ffb-aa38-9d172931d145",
   "metadata": {},
   "source": [
    "## 상속"
   ]
  },
  {
   "cell_type": "code",
   "execution_count": 187,
   "id": "f7ad0ad3-99d8-42cd-8e9d-33adcc4d6c52",
   "metadata": {},
   "outputs": [],
   "source": [
    "class Person():\n",
    "    ident = '111-111'\n",
    "\n",
    "    def __init__(self, name):\n",
    "        self.name = name\n",
    "\n",
    "    def greeting(self):\n",
    "        print(f'안녕하세요 {self.name}입니다')"
   ]
  },
  {
   "cell_type": "code",
   "execution_count": 188,
   "id": "b1a6a602-4169-4d77-8c98-dc16449d9955",
   "metadata": {},
   "outputs": [],
   "source": [
    "p1 = Person('홍길동')\n",
    "p2 = Person('김정아')"
   ]
  },
  {
   "cell_type": "code",
   "execution_count": 189,
   "id": "3d643a1d-8f9f-46ff-921b-9418f22a2ec3",
   "metadata": {},
   "outputs": [
    {
     "name": "stdout",
     "output_type": "stream",
     "text": [
      "안녕하세요 홍길동입니다\n",
      "안녕하세요 김정아입니다\n"
     ]
    }
   ],
   "source": [
    "p1.greeting()\n",
    "p2.greeting()"
   ]
  },
  {
   "cell_type": "code",
   "execution_count": 193,
   "id": "72d2746c-a781-47e4-89f5-1ce89e83b6fc",
   "metadata": {},
   "outputs": [],
   "source": [
    "\n",
    "class Soldier(Person): #똑같은 기능(코드)를 반복하지 않기 위해 사용\n",
    "#    ident = '123456789'\n",
    "\n",
    "#    def __init__(self, name):\n",
    "#        self.name = name\n",
    "\n",
    "    def greeting(self):\n",
    "        print(f'충성!! {self.name}입니다.') #재정의, overwrite, 가장 가까운 메쏘드를 실행."
   ]
  },
  {
   "cell_type": "code",
   "execution_count": 195,
   "id": "295a61ec-b61a-4274-908b-f97ddcb4e04e",
   "metadata": {},
   "outputs": [
    {
     "name": "stdout",
     "output_type": "stream",
     "text": [
      "충성!! 국방이입니다.\n",
      "111-111\n"
     ]
    }
   ],
   "source": [
    "s1 = Soldier('국방이')\n",
    "s1.greeting()\n",
    "print(s1.ident)"
   ]
  },
  {
   "cell_type": "code",
   "execution_count": 196,
   "id": "48dd29a4-341b-4b3d-a121-5fb7cdeeed16",
   "metadata": {},
   "outputs": [],
   "source": [
    "class Student(Person):\n",
    "    #ident = '111-111'\n",
    "\n",
    "    #def __init__(self, name):\n",
    "    #    self.name = name\n",
    "\n",
    "    #def greeting(self):\n",
    "    #    print(f'안녕하세요 {self.name}입니다')\n",
    "\n",
    "    student_id = '24680'\n",
    "\n",
    "    def __init__(self, student_id):\n",
    "        self.student_id = student_id #학번을 넣어야 학생을 만들수 있구나~? 인식시켜주기"
   ]
  },
  {
   "cell_type": "code",
   "execution_count": 202,
   "id": "da55b4a0-f830-4cb4-9b70-c30140a15429",
   "metadata": {},
   "outputs": [
    {
     "name": "stdout",
     "output_type": "stream",
     "text": [
      "68292\n",
      "<bound method Person.greeting of <__main__.Student object at 0x000001E58A237F80>>\n"
     ]
    }
   ],
   "source": [
    "#으아악 헷갈려\n",
    "s1 = Student(68292)\n",
    "print(s1.student_id)\n",
    "print(s1.greeting)"
   ]
  },
  {
   "cell_type": "code",
   "execution_count": 220,
   "id": "e8721162-f4c9-406d-8d7f-9369945f37ab",
   "metadata": {},
   "outputs": [],
   "source": [
    "class Person():\n",
    "    def __init__(self, name, email, phone, location):\n",
    "        self.name = name\n",
    "        self.email = email\n",
    "        self.phone = phone\n",
    "        self.location = location\n",
    "\n",
    "class Student(Person): #상속, but __init__ 끼리 충돌하여 가장 가까운 student_id만 생성\n",
    "    def __init__(self, name, email, phone, location, student_id):\n",
    "        super().__init__(name, email, phone, location) #super(상위)의 변수 가져와 인스턴스 생성할 수 있게 해줌\n",
    "        self.student_id = student_id"
   ]
  },
  {
   "cell_type": "code",
   "execution_count": 221,
   "id": "2da8a808-4bc8-4548-8d9b-f1e3c4de7356",
   "metadata": {},
   "outputs": [],
   "source": [
    "p1 = Person('honng', 'asd@gmail.com', '1234', 'seoul')\n",
    "s1 = Student('kim', 'asdtyu@gmail.com', '5678', 'Gyeonggi', '24680')"
   ]
  },
  {
   "cell_type": "markdown",
   "id": "f35a7956-ac5b-47ba-8429-00ba5e9b351f",
   "metadata": {},
   "source": [
    "### 다중상속"
   ]
  },
  {
   "cell_type": "code",
   "execution_count": 209,
   "id": "9cd50aa7-94a7-4238-8df2-a9d6f53847d7",
   "metadata": {},
   "outputs": [],
   "source": [
    "class Person():\n",
    "    def __init__(self, name):\n",
    "        self.name = name\n",
    "\n",
    "    def breath(self):\n",
    "        print('후하')"
   ]
  },
  {
   "cell_type": "code",
   "execution_count": 212,
   "id": "087ae7b2-9ac9-4ac0-a67b-fea6f312b18d",
   "metadata": {},
   "outputs": [],
   "source": [
    "class Mom(Person):\n",
    "    gene = 'xx'\n",
    "\n",
    "    def swim(self):\n",
    "        print('어푸어푸')"
   ]
  },
  {
   "cell_type": "code",
   "execution_count": 214,
   "id": "f091d5dd-ba29-455f-b29b-75bea3dcec8d",
   "metadata": {},
   "outputs": [],
   "source": [
    "class Dad(Person):\n",
    "    gene = 'xy'\n",
    "\n",
    "    def run(self):\n",
    "        print('달려달려')"
   ]
  },
  {
   "cell_type": "code",
   "execution_count": 216,
   "id": "111d249c-a384-47fa-989e-2ecadadaf94b",
   "metadata": {},
   "outputs": [],
   "source": [
    "class Baby(Mom, Dad):\n",
    "    pass #상속 완"
   ]
  },
  {
   "cell_type": "code",
   "execution_count": 219,
   "id": "25516483-144e-414f-b4bf-6f9bb62bdd68",
   "metadata": {},
   "outputs": [
    {
     "name": "stdout",
     "output_type": "stream",
     "text": [
      "금쪽이\n",
      "달려달려\n",
      "None\n",
      "후하\n",
      "xx\n"
     ]
    }
   ],
   "source": [
    "b = Baby('금쪽이')\n",
    "print(b.name)\n",
    "print(b.run())\n",
    "b.breath()\n",
    "print(b.gene)"
   ]
  },
  {
   "cell_type": "markdown",
   "id": "2c74016d-58c9-4f38-86d4-01d5296786e1",
   "metadata": {},
   "source": [
    "**파이썬 총망라...**\n",
    "- (주피터랩)제어문 반복문~부터 복습\n",
    "    - ~(프로그래머스) Day3 문제 풀기~\n",
    "- 객체지향 이해하기\n",
    "    - ~강사님의 포케몽 class 이해하기~\n",
    "        - 능력되면 상성표 만들어보고싶다... ㅠㅠ"
   ]
  },
  {
   "cell_type": "markdown",
   "id": "dec99e9c-a108-49b8-91cd-fcd4ef56c28f",
   "metadata": {},
   "source": [
    "#### 포케몽..."
   ]
  },
  {
   "cell_type": "code",
   "execution_count": 47,
   "id": "f6761367-1b09-468d-a74f-65d5f798cfeb",
   "metadata": {},
   "outputs": [
    {
     "name": "stdout",
     "output_type": "stream",
     "text": [
      "꼬부기은 파이리에게 15.0의 공격을 했다.\n",
      "파이리은 꼬부기에게 20의 공격을 했다.\n",
      "꼬부기: 30\n",
      "파이리: 35.0\n",
      "꼬부기은 파이리에게 15.0의 공격을 했다.\n",
      "파이리은 꼬부기에게 20의 공격을 했다.\n",
      "꼬부기: 10\n",
      "파이리: 20.0\n",
      "꼬부기은 파이리에게 15.0의 공격을 했다.\n",
      "파이리은 꼬부기에게 20의 공격을 했다.\n",
      "꼬부기 승리\n"
     ]
    }
   ],
   "source": [
    "class PokeMon():\n",
    "#클래스변수x\n",
    "    def __init__(self, name):    \n",
    "        self.name = name\n",
    "        #name은 속성, 나머지는?\n",
    "        self.level = 10\n",
    "        self.hp = self.level * 5\n",
    "        self.exp = 0\n",
    "\n",
    "    def check_hp(self):\n",
    "        return True if self.hp <= 0 else False #생성자 변수를 갖다쓸 수 있는가?\n",
    "    \n",
    "    def attack(self, opponent):\n",
    "        damage = self.level\n",
    "        opponent.hp -= damage\n",
    "\n",
    "        if opponent.check_hp():\n",
    "            self.exp += 5 #생성자 변수를 갖다쓸 수 있는가?\n",
    "\n",
    "\n",
    "class WaterType():\n",
    "    type_name = 'water'\n",
    "\n",
    "class FireType():\n",
    "    type_name = 'fire'\n",
    "\n",
    "#다중상속\n",
    "class WaterPokeMon(PokeMon, WaterType):\n",
    "    def water_attack(self, opponent):\n",
    "        if opponent.type_name == 'fire':\n",
    "            damage = self.level * 1.5\n",
    "        else:\n",
    "            damage = self.level * 1.2\n",
    "        opponent.hp -= damage\n",
    "        print(f'{self.name}은 {opponent.name}에게 {damage}의 공격을 했다.')\n",
    "\n",
    "class FirePokeMon(PokeMon, FireType):\n",
    "    def fire_attack(self, opponent):\n",
    "        damege = self.level * 2\n",
    "        opponent.hp -= damege\n",
    "        print(f'{self.name}은 {opponent.name}에게 {damege}의 공격을 했다.')\n",
    "\n",
    "kobuki = WaterPokeMon('꼬부기')\n",
    "pairi = FirePokeMon('파이리')\n",
    "\n",
    "import random\n",
    "\n",
    "while not kobuki.check_hp() or not pairi.check_up():\n",
    "    random_attack = random.randint(0, 1)\n",
    "\n",
    "    kobuki.water_attack(pairi)\n",
    "\n",
    "    if pairi.check_hp():\n",
    "        print(f'{pairi.name} 승리')\n",
    "        break\n",
    "\n",
    "    random_attack = random.randint(0, 1)\n",
    "\n",
    "    pairi.fire_attack(kobuki)\n",
    "\n",
    "    if kobuki.check_hp():\n",
    "        print(f'{kobuki.name} 승리')\n",
    "        break\n",
    "\n",
    "    print(f'{kobuki.name}: {kobuki.hp}')\n",
    "    print(f'{pairi.name}: {pairi.hp}')"
   ]
  },
  {
   "cell_type": "code",
   "execution_count": null,
   "id": "826cb6db-e0c0-451b-b60c-716a5806fc53",
   "metadata": {},
   "outputs": [],
   "source": []
  },
  {
   "cell_type": "code",
   "execution_count": null,
   "id": "0e5a4d44-03a7-44cd-a9a1-51323b4bd184",
   "metadata": {},
   "outputs": [],
   "source": []
  }
 ],
 "metadata": {
  "kernelspec": {
   "display_name": "Python 3 (ipykernel)",
   "language": "python",
   "name": "python3"
  },
  "language_info": {
   "codemirror_mode": {
    "name": "ipython",
    "version": 3
   },
   "file_extension": ".py",
   "mimetype": "text/x-python",
   "name": "python",
   "nbconvert_exporter": "python",
   "pygments_lexer": "ipython3",
   "version": "3.12.4"
  }
 },
 "nbformat": 4,
 "nbformat_minor": 5
}
