{
 "cells": [
  {
   "cell_type": "code",
   "execution_count": 4,
   "id": "cb0024b0-d07c-4e0a-bfc6-aad5228b00d5",
   "metadata": {
    "scrolled": true
   },
   "outputs": [
    {
     "name": "stdout",
     "output_type": "stream",
     "text": [
      "['__add__', '__class__', '__contains__', '__delattr__', '__dir__', '__doc__', '__eq__', '__format__', '__ge__', '__getattribute__', '__getitem__', '__getnewargs__', '__getstate__', '__gt__', '__hash__', '__init__', '__init_subclass__', '__iter__', '__le__', '__len__', '__lt__', '__mod__', '__mul__', '__ne__', '__new__', '__reduce__', '__reduce_ex__', '__repr__', '__rmod__', '__rmul__', '__setattr__', '__sizeof__', '__str__', '__subclasshook__', 'capitalize', 'casefold', 'center', 'count', 'encode', 'endswith', 'expandtabs', 'find', 'format', 'format_map', 'index', 'isalnum', 'isalpha', 'isascii', 'isdecimal', 'isdigit', 'isidentifier', 'islower', 'isnumeric', 'isprintable', 'isspace', 'istitle', 'isupper', 'join', 'ljust', 'lower', 'lstrip', 'maketrans', 'partition', 'removeprefix', 'removesuffix', 'replace', 'rfind', 'rindex', 'rjust', 'rpartition', 'rsplit', 'rstrip', 'split', 'splitlines', 'startswith', 'strip', 'swapcase', 'title', 'translate', 'upper', 'zfill']\n"
     ]
    }
   ],
   "source": [
    "#객체가 가지고 있는 기능을 학습\n",
    "\n",
    "print(dir('hello'))\n"
   ]
  },
  {
   "cell_type": "markdown",
   "id": "65922a07-a427-4257-ac79-3291e8f967e4",
   "metadata": {},
   "source": [
    "# 문자열 메소드"
   ]
  },
  {
   "cell_type": "code",
   "execution_count": 5,
   "id": "bca28121-7792-44d3-8bb0-c5f65c4f599e",
   "metadata": {},
   "outputs": [],
   "source": [
    "a = 'hello my name is Jeong'"
   ]
  },
  {
   "cell_type": "code",
   "execution_count": 6,
   "id": "127fa68a-fa4d-4d1c-8f1e-ecdbd0acc6b0",
   "metadata": {},
   "outputs": [
    {
     "name": "stdout",
     "output_type": "stream",
     "text": [
      "hello my name is Jeong\n"
     ]
    }
   ],
   "source": [
    "print(a)"
   ]
  },
  {
   "cell_type": "code",
   "execution_count": 9,
   "id": "2b370120-59c7-4cc6-a2fc-a76329cd31f1",
   "metadata": {},
   "outputs": [
    {
     "name": "stdout",
     "output_type": "stream",
     "text": [
      "Hello my name is jeong\n"
     ]
    }
   ],
   "source": [
    "#immutable 데이터는 수정할 수 없는 데이터기 때문에 a[0] = 'H' 적용이 안된다.\n",
    "print(a.capitalize())"
   ]
  },
  {
   "cell_type": "code",
   "execution_count": 13,
   "id": "9d0cee2a-33b3-4ff2-ae83-d32d5d98c9a3",
   "metadata": {},
   "outputs": [
    {
     "name": "stdout",
     "output_type": "stream",
     "text": [
      "Hello My Name Is Jeong\n",
      "HELLO MY NAME IS JEONG\n",
      "hello my name is jeong\n"
     ]
    }
   ],
   "source": [
    "#상동 기능\n",
    "print(a.title())\n",
    "#모든 글자를 대문자로\n",
    "print(a.upper())\n",
    "#모든 글자를 소문자로\n",
    "print(a.lower())"
   ]
  },
  {
   "cell_type": "code",
   "execution_count": 17,
   "id": "5a85bd12-0e65-4f33-b77e-9ba1cb6c4013",
   "metadata": {},
   "outputs": [],
   "source": [
    "a = a.upper() #재할당"
   ]
  },
  {
   "cell_type": "code",
   "execution_count": 18,
   "id": "4d980ef6-cfce-40dd-b4fe-e16920842a6e",
   "metadata": {},
   "outputs": [
    {
     "name": "stdout",
     "output_type": "stream",
     "text": [
      "HELLO MY NAME IS JEONG\n"
     ]
    }
   ],
   "source": [
    "#메소드는 원본을 수정하지 않는다.\n",
    "print(a)"
   ]
  },
  {
   "cell_type": "code",
   "execution_count": 20,
   "id": "0f057825-7f83-475b-aa7a-a22fe1785771",
   "metadata": {},
   "outputs": [
    {
     "name": "stdout",
     "output_type": "stream",
     "text": [
      "my name is\n"
     ]
    }
   ],
   "source": [
    "#join\n",
    "my_list = ['my', 'name', 'is']\n",
    "print(' '.join(my_list))"
   ]
  },
  {
   "cell_type": "code",
   "execution_count": 23,
   "id": "e30f17a1-4884-4083-9e29-4b9da1225608",
   "metadata": {},
   "outputs": [
    {
     "name": "stdout",
     "output_type": "stream",
     "text": [
      "             hi \n",
      " \n",
      "hi\n",
      "hello\n",
      "hello-----------\n",
      "----------hello\n"
     ]
    }
   ],
   "source": [
    "#strip\n",
    "my_string = '             hi \\n '\n",
    "print(my_string)\n",
    "print(my_string.strip())\n",
    "\n",
    "\n",
    "my_string2 = '----------hello-----------'\n",
    "print(my_string2.strip('-'))\n",
    "print(my_string2.lstrip('-'))\n",
    "print(my_string2.rstrip('-'))"
   ]
  },
  {
   "cell_type": "code",
   "execution_count": 27,
   "id": "0a3a3526-c68f-4556-915a-d061c2ca9c68",
   "metadata": {},
   "outputs": [
    {
     "name": "stdout",
     "output_type": "stream",
     "text": [
      "w*******w\n"
     ]
    }
   ],
   "source": [
    "#replace\n",
    "a = 'wooooooow'\n",
    "print(a.replace('o', '*', )) #무엇을,무엇으로,몇개\n"
   ]
  },
  {
   "cell_type": "code",
   "execution_count": 29,
   "id": "eda91736-54c2-4f7d-87ed-9e305ead0114",
   "metadata": {},
   "outputs": [
    {
     "name": "stdout",
     "output_type": "stream",
     "text": [
      "0\n",
      "-1\n"
     ]
    }
   ],
   "source": [
    "#find: 문자열의 위치를 찾아준다.\n",
    "a = 'apple'\n",
    "print(a.find('a'))\n",
    "print(a.find('m'))"
   ]
  },
  {
   "cell_type": "code",
   "execution_count": 31,
   "id": "a355265d-6efe-40e5-b1fe-069df7fdbc75",
   "metadata": {},
   "outputs": [
    {
     "name": "stdout",
     "output_type": "stream",
     "text": [
      "0\n",
      "1\n"
     ]
    },
    {
     "ename": "ValueError",
     "evalue": "substring not found",
     "output_type": "error",
     "traceback": [
      "\u001b[1;31m-----------------------------------------------------------\u001b[0m",
      "\u001b[1;31mValueError\u001b[0m                Traceback (most recent call last)",
      "Cell \u001b[1;32mIn[31], line 5\u001b[0m\n\u001b[0;32m      3\u001b[0m \u001b[38;5;28mprint\u001b[39m(a\u001b[38;5;241m.\u001b[39mindex(\u001b[38;5;124m'\u001b[39m\u001b[38;5;124ma\u001b[39m\u001b[38;5;124m'\u001b[39m))\n\u001b[0;32m      4\u001b[0m \u001b[38;5;28mprint\u001b[39m(a\u001b[38;5;241m.\u001b[39mindex(\u001b[38;5;124m'\u001b[39m\u001b[38;5;124mp\u001b[39m\u001b[38;5;124m'\u001b[39m))\n\u001b[1;32m----> 5\u001b[0m \u001b[38;5;28mprint\u001b[39m(\u001b[43ma\u001b[49m\u001b[38;5;241;43m.\u001b[39;49m\u001b[43mindex\u001b[49m\u001b[43m(\u001b[49m\u001b[38;5;124;43m'\u001b[39;49m\u001b[38;5;124;43mm\u001b[39;49m\u001b[38;5;124;43m'\u001b[39;49m\u001b[43m)\u001b[49m)\n",
      "\u001b[1;31mValueError\u001b[0m: substring not found"
     ]
    }
   ],
   "source": [
    "#우사 메쏘드인 index는 없는 데이터에 대해 -1이 아닌 error 발생\n",
    "#쓰임세에 맞게 취사 선택하여 사용\n",
    "a = 'apple'\n",
    "print(a.index('a'))\n",
    "print(a.index('p'))\n",
    "print(a.index('m'))"
   ]
  },
  {
   "cell_type": "code",
   "execution_count": 36,
   "id": "665fab85-69e8-4c36-86f9-2139c698d5b6",
   "metadata": {},
   "outputs": [
    {
     "data": {
      "text/plain": [
       "['my', 'name', 'is', 'hong']"
      ]
     },
     "execution_count": 36,
     "metadata": {},
     "output_type": "execute_result"
    }
   ],
   "source": [
    "#split\n",
    "a = 'my_name_is_hong'\n",
    "a.split('_')\n"
   ]
  },
  {
   "cell_type": "code",
   "execution_count": 37,
   "id": "a1bd1295-88d8-42f3-b702-f42d4f94e685",
   "metadata": {},
   "outputs": [
    {
     "data": {
      "text/plain": [
       "5"
      ]
     },
     "execution_count": 37,
     "metadata": {},
     "output_type": "execute_result"
    }
   ],
   "source": [
    "#갯수 세준다.\n",
    "a = 'wooooo'\n",
    "a.count('o')"
   ]
  },
  {
   "cell_type": "markdown",
   "id": "91efc4dc-a992-46c1-b25a-aadb7936b169",
   "metadata": {},
   "source": [
    "# 리스트 메소드"
   ]
  },
  {
   "cell_type": "code",
   "execution_count": 38,
   "id": "605c989d-18ad-4988-9f37-763a429cd63e",
   "metadata": {},
   "outputs": [],
   "source": [
    "numbers = [1, 7, 9, 11, 21, 47]"
   ]
  },
  {
   "cell_type": "code",
   "execution_count": 39,
   "id": "25d10779-2605-4626-9950-14cd69e12941",
   "metadata": {},
   "outputs": [
    {
     "name": "stdout",
     "output_type": "stream",
     "text": [
      "[1, 7, 9, 11, 21, 47, 10]\n"
     ]
    }
   ],
   "source": [
    "numbers.append(10)\n",
    "print(numbers)"
   ]
  },
  {
   "cell_type": "code",
   "execution_count": 49,
   "id": "10ea6b30-c4c9-446b-aee4-13f301214cb2",
   "metadata": {},
   "outputs": [
    {
     "name": "stdout",
     "output_type": "stream",
     "text": [
      "[-100, 1, 7, 9, 11, 21, 47, 10, 99, 100, 99, 100, 99, 100]\n",
      "[-100, 1, 7, 9, 11, 21, 47, 10, 99, 100, 99, 100, 99, 100, 99, 100]\n"
     ]
    }
   ],
   "source": [
    "a = [99, 100]\n",
    "\n",
    "numbers.extend(a)\n",
    "print(numbers)\n",
    "numbers = numbers + a\n",
    "print(numbers)"
   ]
  },
  {
   "cell_type": "code",
   "execution_count": 50,
   "id": "6bc605f6-af24-431d-ad28-b45348bcc4bb",
   "metadata": {},
   "outputs": [
    {
     "name": "stdout",
     "output_type": "stream",
     "text": [
      "[-100, -100, 1, 7, 9, 11, 21, 47, 10, 99, 100, 99, 100, 99, 100, 99, 100]\n"
     ]
    }
   ],
   "source": [
    "numbers.insert(0,-100) #어디에(위치인자), 무엇을 넣을지\n",
    "print(numbers)"
   ]
  },
  {
   "cell_type": "code",
   "execution_count": 58,
   "id": "26113026-e7c5-4116-8345-480f235e2a95",
   "metadata": {},
   "outputs": [
    {
     "ename": "ValueError",
     "evalue": "list.remove(x): x not in list",
     "output_type": "error",
     "traceback": [
      "\u001b[1;31m-----------------------------------------------------------\u001b[0m",
      "\u001b[1;31mValueError\u001b[0m                Traceback (most recent call last)",
      "Cell \u001b[1;32mIn[58], line 1\u001b[0m\n\u001b[1;32m----> 1\u001b[0m \u001b[43mnumbers\u001b[49m\u001b[38;5;241;43m.\u001b[39;49m\u001b[43mremove\u001b[49m\u001b[43m(\u001b[49m\u001b[38;5;241;43m-\u001b[39;49m\u001b[38;5;241;43m10\u001b[39;49m\u001b[43m)\u001b[49m\n\u001b[0;32m      2\u001b[0m \u001b[38;5;28mprint\u001b[39m(numbers)\n",
      "\u001b[1;31mValueError\u001b[0m: list.remove(x): x not in list"
     ]
    }
   ],
   "source": [
    "#remove(x): x를 찾아서 제거, 없으면 에러 출력\n",
    "numbers.remove(-10)\n",
    "print(numbers)"
   ]
  },
  {
   "cell_type": "code",
   "execution_count": 62,
   "id": "d9570e33-1d87-413f-8ed6-8c6f6de04c99",
   "metadata": {},
   "outputs": [
    {
     "name": "stdout",
     "output_type": "stream",
     "text": [
      "[7, 9, 11, 21, 47, 10, 99] 100\n",
      "[9, 11, 21, 47, 10, 99]\n"
     ]
    }
   ],
   "source": [
    "#stack, cue한 데이터를 끄집어내서 연산 등에 활용\n",
    "result = numbers.pop()\n",
    "print(numbers, result)\n",
    "\n",
    "numbers.pop(0)\n",
    "print(numbers)"
   ]
  },
  {
   "cell_type": "markdown",
   "id": "1c0daa97-d1f2-400e-8fc1-4e99c5171edf",
   "metadata": {},
   "source": [
    "![data_stack](https://zrr.kr/KjPA)"
   ]
  },
  {
   "cell_type": "code",
   "execution_count": 64,
   "id": "14cc42bd-2fcd-456b-9e8f-a7d19790fdc4",
   "metadata": {},
   "outputs": [
    {
     "name": "stdout",
     "output_type": "stream",
     "text": [
      "[9, 10, 11, 21, 47, 99]\n",
      "[99, 47, 21, 11, 10, 9]\n"
     ]
    }
   ],
   "source": [
    "#오름차순 정렬\n",
    "numbers.sort()\n",
    "print(numbers)\n",
    "\n",
    "numbers.sort(reverse = True) #내림차순\n",
    "print(numbers)"
   ]
  },
  {
   "cell_type": "code",
   "execution_count": 74,
   "id": "841f7f39-c729-4863-9c58-21992d003f54",
   "metadata": {},
   "outputs": [
    {
     "name": "stdout",
     "output_type": "stream",
     "text": [
      "[-10, 1, 3, 5, 7, 8, 17]\n",
      "[5, 3, 7, 1, 8, 17, -10]\n",
      "None\n",
      "[-10, 1, 3, 5, 7, 8, 17]\n"
     ]
    }
   ],
   "source": [
    "#메쏘드와 함수의 차이 (메쏘드가 실제 데이터를 직접 바꾼다, 함수는 결과만 리턴해준다)\n",
    "numbers = [5, 3, 7, 1, 8, 17, -10]\n",
    "\n",
    "print(sorted(numbers))\n",
    "print(numbers)\n",
    "print(numbers.sort())\n",
    "print(numbers)"
   ]
  },
  {
   "cell_type": "code",
   "execution_count": 79,
   "id": "9ff31a26-a787-4892-8507-5f76e4f3ba33",
   "metadata": {},
   "outputs": [],
   "source": [
    "my_eng = ['a', 'b', 'e', 'a', 'c']\n",
    "my_kor = ['가', '나', '나', '라', '다']\n",
    "my_eng.sort()\n",
    "my_kor.sort()\n",
    "#왜none이 뜨지"
   ]
  },
  {
   "cell_type": "code",
   "execution_count": 80,
   "id": "89bfc9b6-61a2-4c73-b55d-8a7abe7909ca",
   "metadata": {},
   "outputs": [
    {
     "name": "stdout",
     "output_type": "stream",
     "text": [
      "[-10, 1, 3, 5, 7, 8, 17]\n",
      "[17, 8, 7, 5, 3, 1, -10]\n"
     ]
    }
   ],
   "source": [
    "print(numbers)\n",
    "numbers.reverse()\n",
    "print(numbers)"
   ]
  },
  {
   "cell_type": "code",
   "execution_count": 86,
   "id": "1b2c814a-2967-4d31-a85f-ac4eba59b4ed",
   "metadata": {},
   "outputs": [
    {
     "name": "stdout",
     "output_type": "stream",
     "text": [
      "[17, 8, 7, 5, 3, 1, -10]\n",
      "1\n",
      "[-10, 1, 3, 5, 7, 8, 17]\n"
     ]
    }
   ],
   "source": [
    "#slicing 놓쳤으니 채워넣쟈\n",
    "print(numbers)\n",
    "print(numbers[-2])\n",
    "print(numbers[::-1])"
   ]
  },
  {
   "cell_type": "markdown",
   "id": "83f1528c-8d3d-45bf-8d6c-7f19c88a2ac3",
   "metadata": {},
   "source": [
    "## list copy (리스트 카피)"
   ]
  },
  {
   "cell_type": "code",
   "execution_count": 87,
   "id": "ae853156-88f2-43c4-88ce-598cd3feae82",
   "metadata": {},
   "outputs": [],
   "source": [
    "origin_list = [1, 2, 3]\n",
    "copy_list = origin_list"
   ]
  },
  {
   "cell_type": "code",
   "execution_count": 88,
   "id": "fae89995-1a4d-4e5a-96c0-26ed55b714ac",
   "metadata": {},
   "outputs": [
    {
     "name": "stdout",
     "output_type": "stream",
     "text": [
      "[1, 2, 3]\n",
      "[1, 2, 3]\n"
     ]
    }
   ],
   "source": [
    "print(origin_list)\n",
    "print(copy_list)"
   ]
  },
  {
   "cell_type": "code",
   "execution_count": 89,
   "id": "e2ac5faf-7c53-4fa7-b6ac-378442164daf",
   "metadata": {},
   "outputs": [],
   "source": [
    "origin_list[0] = 100"
   ]
  },
  {
   "cell_type": "code",
   "execution_count": 91,
   "id": "2d0c5889-d035-4f85-9ec1-04da8c2b1275",
   "metadata": {},
   "outputs": [
    {
     "name": "stdout",
     "output_type": "stream",
     "text": [
      "[100, 2, 3]\n",
      "[100, 2, 3]\n"
     ]
    }
   ],
   "source": [
    "#값 자체가 아닌 주소를 공유하고 있다.\n",
    "print(origin_list)\n",
    "print(copy_list)"
   ]
  },
  {
   "cell_type": "code",
   "execution_count": 93,
   "id": "f632e817-c929-4c8c-b12f-da61718e0ef2",
   "metadata": {},
   "outputs": [
    {
     "name": "stdout",
     "output_type": "stream",
     "text": [
      "[100, 2, 3]\n",
      "[1, 2, 3]\n"
     ]
    }
   ],
   "source": [
    "origin_list = [1, 2, 3]\n",
    "copy_list = origin_list[:] #슬라이싱 재할당...? 안와\n",
    "\n",
    "origin_list[0] = 100\n",
    "print(origin_list)\n",
    "print(copy_list)"
   ]
  },
  {
   "cell_type": "code",
   "execution_count": 99,
   "id": "d7e83ce2-a3e2-4619-a62f-d775ffca27bd",
   "metadata": {},
   "outputs": [
    {
     "name": "stdout",
     "output_type": "stream",
     "text": [
      "[100, 2, [300, 4]]\n",
      "[1, 2, [300, 4]]\n"
     ]
    }
   ],
   "source": [
    "origin_list = [1, 2, [3, 4]] #2차원 리스트...n차원 리스트\n",
    "copy_list = origin_list[:]\n",
    "\n",
    "origin_list[0] = 100\n",
    "origin_list[2][0] = 300\n",
    "\n",
    "print(origin_list)\n",
    "print(copy_list)"
   ]
  },
  {
   "cell_type": "code",
   "execution_count": 102,
   "id": "1fe227fb-c3e2-42df-80e2-b71036c52a4d",
   "metadata": {},
   "outputs": [
    {
     "name": "stdout",
     "output_type": "stream",
     "text": [
      "[100, 2, [300, 4]]\n",
      "[1, 2, [3, 4]]\n"
     ]
    }
   ],
   "source": [
    "import copy\n",
    "origin_list = [1, 2, [3, 4]]\n",
    "copy_list = copy.deepcopy(origin_list)\n",
    "\n",
    "origin_list[0]= 100\n",
    "origin_list[2][0] = 300\n",
    "\n",
    "print(origin_list)\n",
    "print(copy_list)"
   ]
  },
  {
   "cell_type": "markdown",
   "id": "d1990739-b4e8-4bb9-ad70-27ab0120a208",
   "metadata": {},
   "source": [
    "## LIST COMPREHENSHION"
   ]
  },
  {
   "cell_type": "code",
   "execution_count": 108,
   "id": "7b67262c-f9f1-443b-986a-59593ed20b0d",
   "metadata": {},
   "outputs": [
    {
     "name": "stdout",
     "output_type": "stream",
     "text": [
      "[1, 2, 3, 4, 5, 6, 7, 8, 9, 10]\n"
     ]
    }
   ],
   "source": [
    "numbers = list(range(1, 11))\n",
    "print(numbers)"
   ]
  },
  {
   "cell_type": "code",
   "execution_count": 114,
   "id": "55ce250e-63da-47f7-b68a-fac1a75dc78d",
   "metadata": {},
   "outputs": [
    {
     "name": "stdout",
     "output_type": "stream",
     "text": [
      "[1, 8, 27, 64, 125, 216, 343, 512, 729, 1000]\n"
     ]
    }
   ],
   "source": [
    "# => [1, 8, 27 ... 1000] 세제곱\n",
    "\n",
    "result = [] #원본데이터를 바꾸지 않되, \n",
    "\n",
    "for number in numbers: #반복문\n",
    "    result.append(number ** 3)\n",
    "print(result)"
   ]
  },
  {
   "cell_type": "code",
   "execution_count": 115,
   "id": "4f01e884-5839-45c7-87c2-de9f130ed3df",
   "metadata": {},
   "outputs": [
    {
     "name": "stdout",
     "output_type": "stream",
     "text": [
      "[1, 8, 27, 64, 125, 216, 343, 512, 729, 1000]\n"
     ]
    }
   ],
   "source": [
    "result = [number ** 3 for number in numbers]\n",
    "#result = [number1 ** 3, number2 ** 3, number3 ** 3 ....]\n",
    "print(result)"
   ]
  },
  {
   "cell_type": "code",
   "execution_count": 116,
   "id": "883b05ec-904e-411f-9db0-09324f4eb84f",
   "metadata": {},
   "outputs": [
    {
     "name": "stdout",
     "output_type": "stream",
     "text": [
      "[2, 4, 6, 8, 10]\n"
     ]
    }
   ],
   "source": [
    "# 짝수만 고르기\n",
    "\n",
    "result = []\n",
    "\n",
    "for number in numbers:\n",
    "    if number % 2 == 0:\n",
    "        result.append(number)\n",
    "print(result)"
   ]
  },
  {
   "cell_type": "code",
   "execution_count": 119,
   "id": "16ccc8ae-1834-463e-8b13-fe18f15e71f3",
   "metadata": {},
   "outputs": [],
   "source": [
    "#동일결과\n",
    "#result = [(마지막에 읽는 값) number for number in numbers if number % 2 ==0]\n",
    "\n",
    "#연습!\n",
    "words = 'my name is jeong'\n",
    "\n",
    "# -> my nm s jng (모음 제거)\n",
    "#1. 반복문\n",
    "#2. list comprehension\n",
    "#3. 메소드"
   ]
  },
  {
   "cell_type": "code",
   "execution_count": 137,
   "id": "b6bd641e-490d-47ea-a608-b12570a5679d",
   "metadata": {},
   "outputs": [
    {
     "name": "stdout",
     "output_type": "stream",
     "text": [
      "['m', 'y', ' ', 'n', 'm', ' ', 's', ' ', 'j', 'n', 'g']\n",
      "my nm s jng\n"
     ]
    }
   ],
   "source": [
    "#1번: for/if 구조 사용\n",
    "# 모음이 아닌 단어(자음)을 고른다.\n",
    "# vowels = ['a', 'e', 'i', 'o', 'u']\n",
    "# 동일한 시퀀스 타입, 단 mutable immutable은 다른가?\n",
    "\n",
    "vowels = 'aeiou'\n",
    "result = []\n",
    "\n",
    "for word in words:\n",
    "    if word not in vowels:\n",
    "        result.append(word)\n",
    "        \n",
    "print(result)\n",
    "print(''.join(result))"
   ]
  },
  {
   "cell_type": "code",
   "execution_count": 139,
   "id": "d97b33ae-71d3-4cba-ba3e-bd05fef2286a",
   "metadata": {},
   "outputs": [
    {
     "name": "stdout",
     "output_type": "stream",
     "text": [
      "['m', 'y', ' ', 'n', 'm', ' ', 's', ' ', 'j', 'n', 'g']\n"
     ]
    },
    {
     "data": {
      "text/plain": [
       "'my nm s jng'"
      ]
     },
     "execution_count": 139,
     "metadata": {},
     "output_type": "execute_result"
    }
   ],
   "source": [
    "#2번: 리스트 컴프리핸션\n",
    "\n",
    "result = [word for word in words if word not in vowels]\n",
    "print(result)\n",
    "''.join([word for word in words if word not in vowels])"
   ]
  },
  {
   "cell_type": "code",
   "execution_count": 140,
   "id": "7df915ac-13b2-4e77-b1e8-352c8f130f02",
   "metadata": {},
   "outputs": [
    {
     "name": "stdout",
     "output_type": "stream",
     "text": [
      "my nm s jng\n"
     ]
    }
   ],
   "source": [
    "#3번: replace 매소드 활용 흑흑흑 넘어려워.미햬밓ㅁ마ㅓㅎㅇ\n",
    "\n",
    "vowel = 'aeiou'\n",
    "\n",
    "for word in vowels:\n",
    "    words = words.replace(word,'')\n",
    "    \n",
    "print(words)"
   ]
  },
  {
   "cell_type": "markdown",
   "id": "d4230a4b-6e40-49da-b9e9-65a37fbee050",
   "metadata": {},
   "source": [
    "# Dictionary 메소드"
   ]
  },
  {
   "cell_type": "code",
   "execution_count": 141,
   "id": "58469e3c-154d-4b36-98e3-e643257c875e",
   "metadata": {},
   "outputs": [],
   "source": [
    "info = {\n",
    "    'name': 'hong',\n",
    "    'location': 'seoul',\n",
    "    'age': 20,\n",
    "    'models': ['galaxy', 'LG gram', ''],\n",
    "    'calls': {\n",
    "        'aba': '01-1234-1234',\n",
    "        'bba': '08-5678-5678',\n",
    "    }\n",
    "}"
   ]
  },
  {
   "cell_type": "code",
   "execution_count": 148,
   "id": "f234b960-4e3a-440a-a6e0-2d65d6797eba",
   "metadata": {},
   "outputs": [
    {
     "name": "stdout",
     "output_type": "stream",
     "text": [
      "20\n",
      "hong\n",
      "galaxy\n",
      "08-5678-5678\n"
     ]
    }
   ],
   "source": [
    "print(info ['age'])\n",
    "print(info ['name'])\n",
    "print(info['models'][0])\n",
    "print(info['calls']['bba']) #key 값을 입력해줘야한다."
   ]
  },
  {
   "cell_type": "code",
   "execution_count": 149,
   "id": "00f4e661-7b53-4b47-93f9-1fcbc5023a56",
   "metadata": {},
   "outputs": [
    {
     "name": "stdout",
     "output_type": "stream",
     "text": [
      "{'name': 'park', 'location': 'seoul', 'age': 20, 'models': ['galaxy', 'LG gram', ''], 'calls': {'aba': '01-1234-1234', 'bba': '08-5678-5678'}}\n",
      "{'name': 'oh', 'location': 'seoul', 'age': 20, 'models': ['galaxy', 'LG gram', ''], 'calls': {'aba': '01-1234-1234', 'bba': '08-5678-5678'}}\n"
     ]
    }
   ],
   "source": [
    "info['name'] = 'park'\n",
    "print(info)\n",
    "\n",
    "info.update(name='oh')\n",
    "print(info)"
   ]
  },
  {
   "cell_type": "code",
   "execution_count": 150,
   "id": "618a2ed9-8b2a-4868-87c5-75e412640a09",
   "metadata": {},
   "outputs": [
    {
     "name": "stdout",
     "output_type": "stream",
     "text": [
      "{'name': 'oh', 'location': 'seoul', 'models': ['galaxy', 'LG gram', ''], 'calls': {'aba': '01-1234-1234', 'bba': '08-5678-5678'}} 20\n"
     ]
    }
   ],
   "source": [
    "age = info.pop('age')\n",
    "print(info, age)"
   ]
  },
  {
   "cell_type": "code",
   "execution_count": 151,
   "id": "932e8de0-1707-4c2d-8e22-1b3778525fd8",
   "metadata": {},
   "outputs": [
    {
     "name": "stdout",
     "output_type": "stream",
     "text": [
      "oh\n",
      "oh\n"
     ]
    }
   ],
   "source": [
    "print(info.get('name'))\n",
    "print(info['name'])"
   ]
  },
  {
   "cell_type": "code",
   "execution_count": 153,
   "id": "8c6ea9aa-b49e-4227-bed6-2fa2aa676741",
   "metadata": {},
   "outputs": [
    {
     "name": "stdout",
     "output_type": "stream",
     "text": [
      "None\n"
     ]
    }
   ],
   "source": [
    "print(info.get('birth'))"
   ]
  },
  {
   "cell_type": "code",
   "execution_count": 171,
   "id": "18d8ebba-0af0-4046-b836-c02bdbdabf9e",
   "metadata": {},
   "outputs": [
    {
     "name": "stdout",
     "output_type": "stream",
     "text": [
      "{'A': 1, 'B': 1, 'AB': 2, 'O': 2}\n"
     ]
    }
   ],
   "source": [
    "# 연습문제 (하....)\n",
    "blood_type = ['A', 'B', 'AB', 'O', 'AB', 'O']\n",
    "result = {\n",
    "    'A' : 0,\n",
    "    'B' : 0,\n",
    "    'AB' : 0,\n",
    "    'O' : 0,\n",
    "}\n",
    "\n",
    "\n",
    "# -> blood_dict = 블러드 타입이 몇명인지 출력하는 딕셔너리 작성\n",
    "#키값은 혈액형, 밸류는 카운트 혈액형\n",
    "\n",
    "for blood in blood_type:\n",
    "    result[blood] += 1\n",
    "\n",
    "print(result)"
   ]
  },
  {
   "cell_type": "code",
   "execution_count": 179,
   "id": "286cd968-6a7b-4275-b84e-951236a6640a",
   "metadata": {},
   "outputs": [
    {
     "name": "stdout",
     "output_type": "stream",
     "text": [
      "{'서울': 1, '대전': 1, '울산': 2, '부산': 1, '진주': 1, 'LA': 1, 'TOKYO': 1}\n"
     ]
    }
   ],
   "source": [
    "location = ['서울', '대전', '울산', '부산', '울산', '진주', 'LA', 'TOKYO']\n",
    "\n",
    "#이 과정이 아니다...하하 키값을 알고 0부터 시작하는게 아닌 실제 조사를 하며 나아가야함\n",
    "#result = {\n",
    "#    '서울' : 0,\n",
    "#    '대전' : 0,\n",
    "#    '울산' : 0,\n",
    "#    '부산' : 0,\n",
    "#    '진주' : 0,\n",
    "#}\n",
    "\n",
    "result = {}\n",
    "\n",
    "for lo in location:\n",
    "    #result의 key에 lo가 있으면\n",
    "    if result.get(lo):\n",
    "        result[lo] += 1\n",
    "    #result의 keydp lo가 없으면\n",
    "    else:\n",
    "        result [lo] = 1\n",
    "print(result)"
   ]
  },
  {
   "cell_type": "code",
   "execution_count": 185,
   "id": "a4650422-5918-45fc-9e90-eb5541ab61f6",
   "metadata": {},
   "outputs": [
    {
     "name": "stdout",
     "output_type": "stream",
     "text": [
      "{'서울': 1, '대전': 1, '울산': 2, '부산': 1, '진주': 1, 'LA': 1, 'TOKYO': 1}\n"
     ]
    }
   ],
   "source": [
    "#방법:2\n",
    "\n",
    "locations = ['서울', '대전', '울산', '부산', '울산', '진주', 'LA', 'TOKYO']\n",
    "\n",
    "result = {}\n",
    "\n",
    "for location in locations:\n",
    "    result.update({location:locations.count(location)})\n",
    "print(result)"
   ]
  },
  {
   "cell_type": "markdown",
   "id": "c3ea9f76-e5bf-47fd-8095-f31fba620f39",
   "metadata": {},
   "source": [
    "## dict comprehension"
   ]
  },
  {
   "cell_type": "code",
   "execution_count": 187,
   "id": "918d0d18-fa8f-4781-bdbb-3797d16c4edb",
   "metadata": {},
   "outputs": [
    {
     "name": "stdout",
     "output_type": "stream",
     "text": [
      "{1: 1, 2: 8, 3: 27, 4: 64, 5: 125, 6: 216, 7: 343, 8: 512, 9: 729, 10: 1000}\n"
     ]
    }
   ],
   "source": [
    "# {1: 1, 2: 8, 3: 27, ... 10:1000}\n",
    "\n",
    "result = {}\n",
    "numbers = list(range(1,11))\n",
    "\n",
    "for number in numbers:\n",
    "    result[number] = number ** 3\n",
    "\n",
    "print(result)"
   ]
  },
  {
   "cell_type": "code",
   "execution_count": 188,
   "id": "62a6fa57-479f-493d-ae27-7c7c1b119956",
   "metadata": {},
   "outputs": [
    {
     "name": "stdout",
     "output_type": "stream",
     "text": [
      "{1: 1, 2: 8, 3: 27, 4: 64, 5: 125, 6: 216, 7: 343, 8: 512, 9: 729, 10: 1000}\n"
     ]
    }
   ],
   "source": [
    "result = {number: number ** 3 for number in numbers}\n",
    "print(result)"
   ]
  },
  {
   "cell_type": "code",
   "execution_count": 194,
   "id": "13b08f8d-6d53-4ea8-8ccf-a34f088160cb",
   "metadata": {},
   "outputs": [
    {
     "name": "stdout",
     "output_type": "stream",
     "text": [
      "{'Daejeon': 70, 'Gyeonggi': 100, 'Gwangju': 120}\n"
     ]
    }
   ],
   "source": [
    "#딕셔너리...\n",
    "dust = {\n",
    "    'seoul' : 50,\n",
    "    'pusan' : 10,\n",
    "    'Daejeon' : 70,\n",
    "    'Gyeonggi' : 100,\n",
    "    'Gwangju' : 120,\n",
    "}\n",
    "\n",
    "#result = 70 이상인 친구들 뽑아줘\n",
    "\n",
    "result = {}\n",
    "\n",
    "for key, value in dust.items():\n",
    "    if value >= 70:\n",
    "        result[key] = value\n",
    "print(result)"
   ]
  },
  {
   "cell_type": "code",
   "execution_count": 196,
   "id": "94316b25-f203-4eae-97ff-7f656e5be7da",
   "metadata": {},
   "outputs": [
    {
     "name": "stdout",
     "output_type": "stream",
     "text": [
      "{'Daejeon': '나쁨', 'Gyeonggi': '나쁨', 'Gwangju': '나쁨'}\n"
     ]
    }
   ],
   "source": [
    "# 2. comp\n",
    "result = {k : '나쁨' for k, v in dust.items() if v >= 70}\n",
    "print(result)"
   ]
  },
  {
   "cell_type": "markdown",
   "id": "6aba6ee2-a32c-4aa4-997e-78eb0ed55c61",
   "metadata": {},
   "source": [
    "# 세트 메소드"
   ]
  },
  {
   "cell_type": "code",
   "execution_count": 228,
   "id": "6cda2849-3063-478c-a44d-cdb81bb03642",
   "metadata": {},
   "outputs": [],
   "source": [
    "#cf. set는 중복값을 없애서 표시한다.\n",
    "fruits = {'apple', 'banana', 'melon'}"
   ]
  },
  {
   "cell_type": "code",
   "execution_count": 229,
   "id": "a765ef62-8aae-4fee-be12-609893d7037e",
   "metadata": {},
   "outputs": [
    {
     "name": "stdout",
     "output_type": "stream",
     "text": [
      "{'melon', 'apple', 'banana'}\n"
     ]
    }
   ],
   "source": [
    "print(fruits)"
   ]
  },
  {
   "cell_type": "code",
   "execution_count": 230,
   "id": "597a4fdc-53e2-49f0-842c-7755b76816df",
   "metadata": {},
   "outputs": [
    {
     "name": "stdout",
     "output_type": "stream",
     "text": [
      "{'watermelon', 'melon', 'apple', 'banana'}\n"
     ]
    }
   ],
   "source": [
    "fruits.add('watermelon') # 단일 데이터 업데이트?\n",
    "print(fruits)"
   ]
  },
  {
   "cell_type": "code",
   "execution_count": 232,
   "id": "4cdaa9c4-aab2-4896-92c3-68f7b753ba37",
   "metadata": {},
   "outputs": [
    {
     "name": "stdout",
     "output_type": "stream",
     "text": [
      "{'watermelon', 'melon', 'grape', 'banana', 'peach', 'apple'}\n"
     ]
    }
   ],
   "source": [
    "# -> 복수 데이터 업데이트? (list의 extends랑 유사한 역할)\n",
    "fruits.update({'grape', 'peach'})\n",
    "print(fruits)"
   ]
  },
  {
   "cell_type": "code",
   "execution_count": 233,
   "id": "07f92b02-0be5-48fb-ad33-a17f138889eb",
   "metadata": {},
   "outputs": [
    {
     "name": "stdout",
     "output_type": "stream",
     "text": [
      "{'watermelon', 'melon', 'grape', 'banana', 'peach'}\n"
     ]
    }
   ],
   "source": [
    "fruits.remove('apple')\n",
    "print(fruits)"
   ]
  },
  {
   "cell_type": "code",
   "execution_count": 238,
   "id": "29cc7bb6-207a-4821-8329-9992836ba266",
   "metadata": {},
   "outputs": [
    {
     "name": "stdout",
     "output_type": "stream",
     "text": [
      "set()\n"
     ]
    }
   ],
   "source": [
    "fruits.pop()\n",
    "print(fruits)"
   ]
  },
  {
   "cell_type": "markdown",
   "id": "7456683e-b68e-4920-9bba-28aa81b6c0ac",
   "metadata": {},
   "source": [
    "## map, filter, zip\n",
    "### map\n",
    "- map (funtion/함수, iterable/범위) : 일정한 범위의 데이터를 넣어서 반복 작업을 대신?해준다."
   ]
  },
  {
   "cell_type": "code",
   "execution_count": 240,
   "id": "6e202cd4-de3a-456d-aaf8-927c8f8e8f07",
   "metadata": {},
   "outputs": [
    {
     "name": "stdout",
     "output_type": "stream",
     "text": [
      "['1', '2', '3', '4', '5']\n"
     ]
    }
   ],
   "source": [
    "# 반복 작업을 편하게 만들어주는 함수\n",
    "\n",
    "numbers = [1, 2, 3, 4, 5]\n",
    "# -> ['1', '2', '3', '4', '5']\n",
    "\n",
    "result = []\n",
    "for number in numbers:\n",
    "    result.append(str(number))\n",
    "print(result)"
   ]
  },
  {
   "cell_type": "code",
   "execution_count": 241,
   "id": "d4c96196-f01b-449c-9e85-62660e5940f5",
   "metadata": {},
   "outputs": [
    {
     "name": "stdout",
     "output_type": "stream",
     "text": [
      "<map object at 0x000001FA49719CF0>\n"
     ]
    }
   ],
   "source": [
    "result = map(str, numbers)\n",
    "print(result)"
   ]
  },
  {
   "cell_type": "code",
   "execution_count": 243,
   "id": "c0fd92ee-f02f-4e91-997e-5e585bc1cd1b",
   "metadata": {},
   "outputs": [
    {
     "name": "stdout",
     "output_type": "stream",
     "text": [
      "['1', '2', '3', '4', '5']\n"
     ]
    }
   ],
   "source": [
    "print(list(result)) #위에 위치값을 숫자로 변경해서 보여줌"
   ]
  },
  {
   "cell_type": "code",
   "execution_count": 249,
   "id": "5d3d921e-fc50-4595-9b9a-52d18aa61164",
   "metadata": {},
   "outputs": [
    {
     "name": "stdout",
     "output_type": "stream",
     "text": [
      "[1]\n",
      "[1, 8]\n",
      "[1, 8, 27]\n",
      "[1, 8, 27, 64]\n",
      "[1, 8, 27, 64, 125]\n"
     ]
    }
   ],
   "source": [
    "result = []\n",
    "for number in numbers:\n",
    "    result.append(number ** 3)\n",
    "    print(result)\n",
    "##결과이상해"
   ]
  },
  {
   "cell_type": "code",
   "execution_count": 248,
   "id": "a6e4f7a4-6cdf-4a2a-b6da-eaf72441239f",
   "metadata": {},
   "outputs": [],
   "source": [
    "def triple(x):\n",
    "    return x ** 3"
   ]
  },
  {
   "cell_type": "raw",
   "id": "f3493507-8b03-4663-a827-eafb58621564",
   "metadata": {},
   "source": [
    "result = map(triple, numbers)\n",
    "print(list(result))"
   ]
  },
  {
   "cell_type": "code",
   "execution_count": 250,
   "id": "3890ec96-c0ea-4e08-89a5-e62acb4294f7",
   "metadata": {},
   "outputs": [
    {
     "name": "stdout",
     "output_type": "stream",
     "text": [
      "[1, 3, 5, 7, 9]\n"
     ]
    }
   ],
   "source": [
    "test_input = '1 3 5 7 9'\n",
    "print(list((map(int ,test_input.split()))))"
   ]
  },
  {
   "cell_type": "markdown",
   "id": "6bd265ca-0479-4d90-9a9c-ded510616347",
   "metadata": {},
   "source": [
    "### filter\n",
    "- filter(function, iterable)"
   ]
  },
  {
   "cell_type": "code",
   "execution_count": 251,
   "id": "88e6371d-20de-42ef-bd0e-f4ead185074b",
   "metadata": {},
   "outputs": [],
   "source": [
    "def is_odd(x):\n",
    "    return x % 2"
   ]
  },
  {
   "cell_type": "code",
   "execution_count": 255,
   "id": "dac84ba3-c27a-4345-af4c-9bf3cdbe0312",
   "metadata": {},
   "outputs": [
    {
     "name": "stdout",
     "output_type": "stream",
     "text": [
      "[1, 8, 27, 64, 125, 1, 3, 5]\n"
     ]
    }
   ],
   "source": [
    "numbers = [1, 2, 3, 4, 5]\n",
    "\n",
    "reulst = []\n",
    "for number in numbers:\n",
    "    if number % 2:\n",
    "        result.append(number)\n",
    "print(result)"
   ]
  },
  {
   "cell_type": "code",
   "execution_count": 256,
   "id": "55abd990-9d5d-45b5-b081-05d7661de9c9",
   "metadata": {},
   "outputs": [
    {
     "name": "stdout",
     "output_type": "stream",
     "text": [
      "[1, 3, 5]\n"
     ]
    }
   ],
   "source": [
    "## 계속 놓칮노...\n",
    "result = filter(is_odd, numbers)\n",
    "print(list(result))"
   ]
  },
  {
   "cell_type": "markdown",
   "id": "80cfd6aa-f839-430f-80c1-c476bfb6457f",
   "metadata": {},
   "source": [
    "## zip"
   ]
  },
  {
   "cell_type": "code",
   "execution_count": 258,
   "id": "0785a0f9-da13-40dd-8052-fe41baa2e84e",
   "metadata": {},
   "outputs": [
    {
     "name": "stdout",
     "output_type": "stream",
     "text": [
      "<zip object at 0x000001FA49C3B9C0>\n",
      "[(1, 100), (2, 200), (3, 300)]\n"
     ]
    }
   ],
   "source": [
    "a = [1, 2, 3]\n",
    "b = [100, 200, 300, 400, 500]\n",
    "\n",
    "result = zip(a, b)\n",
    "print(result)\n",
    "print(list(result))"
   ]
  },
  {
   "cell_type": "code",
   "execution_count": null,
   "id": "d77b35c7-98d6-4eb2-a6f9-620da6e7012e",
   "metadata": {},
   "outputs": [],
   "source": []
  }
 ],
 "metadata": {
  "kernelspec": {
   "display_name": "Python 3 (ipykernel)",
   "language": "python",
   "name": "python3"
  },
  "language_info": {
   "codemirror_mode": {
    "name": "ipython",
    "version": 3
   },
   "file_extension": ".py",
   "mimetype": "text/x-python",
   "name": "python",
   "nbconvert_exporter": "python",
   "pygments_lexer": "ipython3",
   "version": "3.12.4"
  }
 },
 "nbformat": 4,
 "nbformat_minor": 5
}
