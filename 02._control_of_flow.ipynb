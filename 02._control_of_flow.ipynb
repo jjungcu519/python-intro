{
 "cells": [
  {
   "cell_type": "markdown",
   "id": "f37684d7-edfc-486a-b51e-4a3ca6f1bb79",
   "metadata": {},
   "source": [
    "# 제어문\n",
    "\n",
    "## 조건문(if문)\n",
    "\n",
    "1. if문은 반드시 일정한 참/거짓을 판단할 수 있는 '조건식'과 함께 사용된다.\n",
    "    - `if <조건식>`\n",
    "2. <조건식> `참트루`인 경우 `:(콜론)` 이후의 문장을 실행\n",
    "3. <조건식> `거짓(False)`인 경우 `else:` 이후의 문장을 실행\n",
    "\n",
    "```\n",
    "if <조건식>:\n",
    "    if의 조건식이 참인 경우 실행\n",
    "else:\n",
    "    if의 조건식이 거짓인 경우 실행\n",
    "```"
   ]
  },
  {
   "cell_type": "code",
   "execution_count": 86,
   "id": "eca874a0-4f1b-4bf4-8ed5-b1e8cb9ef695",
   "metadata": {},
   "outputs": [
    {
     "name": "stdin",
     "output_type": "stream",
     "text": [
      " 22\n"
     ]
    },
    {
     "name": "stdout",
     "output_type": "stream",
     "text": [
      "크리스마스가 아닙니다.\n"
     ]
    }
   ],
   "source": [
    "my_string = input()\n",
    "\n",
    "if my_string == '12/25':\n",
    "    print('크리스마스입니다~')\n",
    "else:\n",
    "    print('크리스마스가 아닙니다.')"
   ]
  },
  {
   "cell_type": "code",
   "execution_count": 2,
   "id": "08dfe1bc-c983-4258-a329-dcd517ffb091",
   "metadata": {},
   "outputs": [
    {
     "name": "stdin",
     "output_type": "stream",
     "text": [
      "숫자만 입력해주세요 222\n"
     ]
    },
    {
     "name": "stdout",
     "output_type": "stream",
     "text": [
      "짝수입니다\n"
     ]
    }
   ],
   "source": [
    "num = input('숫자만 입력해주세요')\n",
    "\n",
    "result = int(num) % 2\n",
    "\n",
    "if bool(result):\n",
    "    print('홀수입니다')\n",
    "else:\n",
    "    print('짝수입니다')"
   ]
  },
  {
   "cell_type": "code",
   "execution_count": 3,
   "id": "a7c323b5-defb-4b11-8f00-5733eac5e5f8",
   "metadata": {},
   "outputs": [
    {
     "name": "stdin",
     "output_type": "stream",
     "text": [
      " 222\n"
     ]
    },
    {
     "name": "stdout",
     "output_type": "stream",
     "text": [
      "짝수입니다\n"
     ]
    }
   ],
   "source": [
    "num = int(input())\n",
    "\n",
    "if num % 2 == 1:\n",
    "    print('홀수입니다')\n",
    "else:\n",
    "    print('짝수입니다')"
   ]
  },
  {
   "cell_type": "code",
   "execution_count": 4,
   "id": "9102a367-22a6-45cb-ade5-bea427ae8404",
   "metadata": {},
   "outputs": [
    {
     "name": "stdin",
     "output_type": "stream",
     "text": [
      " 2222\n"
     ]
    },
    {
     "name": "stdout",
     "output_type": "stream",
     "text": [
      "짝수입니다\n"
     ]
    }
   ],
   "source": [
    "num = int(input())\n",
    "\n",
    "if num % 2 == 0:\n",
    "    print('짝수입니다')\n",
    "else:\n",
    "    print('홀수입니다')"
   ]
  },
  {
   "cell_type": "code",
   "execution_count": 6,
   "id": "407dd625-3eed-4561-9b0b-67363002e7f9",
   "metadata": {},
   "outputs": [
    {
     "name": "stdin",
     "output_type": "stream",
     "text": [
      " 3222\n"
     ]
    },
    {
     "name": "stdout",
     "output_type": "stream",
     "text": [
      "홀수\n"
     ]
    }
   ],
   "source": [
    "num = int(input()) #커널로 clear outputs of all cells 했다. 조건식 맞게 작성했는지 선생님거랑 확인하자.\n",
    "\n",
    "if num % 2:\n",
    "    print('홀수')\n",
    "else:\n",
    "    print('짝수')"
   ]
  },
  {
   "cell_type": "markdown",
   "id": "4161b377-c7cd-42f9-a75b-e93ee1707285",
   "metadata": {},
   "source": [
    "### elif\n",
    "\n",
    "```\n",
    "if <조건식>:\n",
    "    if 조건식이 참인경우\n",
    "elif <조건식>:\n",
    "    elif 조건식이 참인경우\n",
    "...\n",
    "else:\n",
    "    위의 조건식이 하나도 부합하지 않는 경우\n",
    "\n",
    "```"
   ]
  },
  {
   "cell_type": "code",
   "execution_count": 12,
   "id": "1b755c26-5cf7-4d39-826c-2ed3b892dbda",
   "metadata": {},
   "outputs": [
    {
     "name": "stdin",
     "output_type": "stream",
     "text": [
      " 94\n"
     ]
    }
   ],
   "source": [
    "score = int(input())"
   ]
  },
  {
   "cell_type": "code",
   "execution_count": 9,
   "id": "82f79a0f-2f80-4fa1-aee5-930a6f363c05",
   "metadata": {},
   "outputs": [
    {
     "name": "stdout",
     "output_type": "stream",
     "text": [
      "A\n"
     ]
    }
   ],
   "source": [
    "#90점 이상 A\n",
    "#80~89 B\n",
    "#70~79 C\n",
    "#나머지 F\n",
    "\n",
    "if score >= 90:\n",
    "    print('A')\n",
    "elif score >= 80 and score <= 89:\n",
    "    print('B')\n",
    "elif score >= 70 and score <= 79:\n",
    "    print('C')\n",
    "else:\n",
    "    print('F')"
   ]
  },
  {
   "cell_type": "code",
   "execution_count": 13,
   "id": "df8db798-f6ce-4c16-a67d-bd4670307c77",
   "metadata": {},
   "outputs": [
    {
     "name": "stdout",
     "output_type": "stream",
     "text": [
      "A\n"
     ]
    }
   ],
   "source": [
    "if score >= 90:\n",
    "    print('A')\n",
    "    if score >= 95:\n",
    "        print('참잘했어요')\n",
    "elif score >= 80:\n",
    "    print('B')"
   ]
  },
  {
   "cell_type": "markdown",
   "id": "ae7861eb-92cd-4d8c-bdf0-bbde2276ada0",
   "metadata": {},
   "source": [
    "### 조건표현식 (지양)\n",
    "```\n",
    "true_value **if** <조건식> **else** false_value\n",
    "```"
   ]
  },
  {
   "cell_type": "code",
   "execution_count": 15,
   "id": "70c9a179-7ee4-488a-b02a-d73b10b36d2b",
   "metadata": {},
   "outputs": [
    {
     "name": "stdout",
     "output_type": "stream",
     "text": [
      "False\n"
     ]
    }
   ],
   "source": [
    "print('True') if 1 < 0 else print('False')"
   ]
  },
  {
   "cell_type": "code",
   "execution_count": 16,
   "id": "57fc61c1-6712-4300-9df6-f8dfbf573e65",
   "metadata": {},
   "outputs": [
    {
     "name": "stdout",
     "output_type": "stream",
     "text": [
      "True\n"
     ]
    }
   ],
   "source": [
    "if 1 > 0:\n",
    "    print('True')\n",
    "else:\n",
    "    print('False')"
   ]
  },
  {
   "cell_type": "code",
   "execution_count": 17,
   "id": "1d589276-3889-4f22-b182-4d94dc7d53b4",
   "metadata": {},
   "outputs": [
    {
     "name": "stdout",
     "output_type": "stream",
     "text": [
      "5\n"
     ]
    }
   ],
   "source": [
    "num = 5\n",
    "value = num if num >= 0 else 0\n",
    "print(value)"
   ]
  },
  {
   "cell_type": "code",
   "execution_count": 21,
   "id": "232f6bac-e00e-422a-8a55-5bcd19737472",
   "metadata": {},
   "outputs": [
    {
     "name": "stdout",
     "output_type": "stream",
     "text": [
      "5\n"
     ]
    }
   ],
   "source": [
    "num =5\n",
    "\n",
    "if num >= 0:\n",
    "    print(value) #value = num\n",
    "else:\n",
    "    print('0') #value = 0\n",
    "#print(value)"
   ]
  },
  {
   "cell_type": "code",
   "execution_count": 22,
   "id": "b747a7f0-9b0e-430c-bf4d-a44f1b745aed",
   "metadata": {},
   "outputs": [
    {
     "name": "stdout",
     "output_type": "stream",
     "text": [
      "홀수\n"
     ]
    }
   ],
   "source": [
    "num = 3\n",
    "\n",
    "if num % 2:\n",
    "    result = '홀수'\n",
    "else:\n",
    "    result = '짝수'\n",
    "\n",
    "print(result)"
   ]
  },
  {
   "cell_type": "code",
   "execution_count": 23,
   "id": "0bf95569-1a41-4a67-bc92-4223a084fc83",
   "metadata": {},
   "outputs": [
    {
     "name": "stdout",
     "output_type": "stream",
     "text": [
      "홀수\n"
     ]
    }
   ],
   "source": [
    "num = 3\n",
    "result = '홀수' if num % 2 else '짝수'\n",
    "print(result)"
   ]
  },
  {
   "cell_type": "markdown",
   "id": "fddfa74e-893e-4106-9ff8-6ff06d6baac1",
   "metadata": {},
   "source": [
    "## 반복문\n",
    "\n",
    "### while문\n",
    "\n",
    "```\n",
    "while <조건식>:\n",
    "    실행할 코드\n",
    "```\n",
    "\n",
    "반복문 탈출시켜줘! 반복 탈출 기준점 제시"
   ]
  },
  {
   "cell_type": "code",
   "execution_count": 25,
   "id": "4749a081-5cc3-467a-b25f-250a5e14f5bf",
   "metadata": {},
   "outputs": [
    {
     "name": "stdout",
     "output_type": "stream",
     "text": [
      "0\n",
      "1\n",
      "2\n",
      "3\n",
      "4\n"
     ]
    }
   ],
   "source": [
    "a = 0\n",
    "\n",
    "while a < 5:\n",
    "    print(a)\n",
    "    a += 1 #복합연산자 (a = a+1 과 동일한 의미)"
   ]
  },
  {
   "cell_type": "code",
   "execution_count": 26,
   "id": "06f76685-d4e4-4e63-8fd1-7c2e2bb50726",
   "metadata": {},
   "outputs": [
    {
     "name": "stdin",
     "output_type": "stream",
     "text": [
      "안녕이라고 말해줘 싫어\n",
      "안녕이라고 말해줘 시ㅀ어!\n",
      "안녕이라고 말해줘 실ㅎ다고!\n",
      "안녕이라고 말해줘 안녕\n"
     ]
    }
   ],
   "source": [
    "greeting = ''\n",
    "\n",
    "while greeting != '안녕':\n",
    "   greeting = input('안녕이라고 말해줘')"
   ]
  },
  {
   "cell_type": "markdown",
   "id": "203b891c-2e51-4c1b-b836-c09f90319617",
   "metadata": {},
   "source": [
    "### for\n",
    "\n",
    "- 정해진 범위 내의 반복\n",
    "- 리스트 자료형의 요소요소를 꺼내와서 반복한다?\n",
    "\n",
    "```\n",
    "for variable(item) in sequence:\n",
    "    code\n",
    "```"
   ]
  },
  {
   "cell_type": "code",
   "execution_count": 28,
   "id": "a0c1aa0e-f5c9-4989-a5a5-b6b069359db1",
   "metadata": {},
   "outputs": [
    {
     "name": "stdout",
     "output_type": "stream",
     "text": [
      "1\n",
      "2\n",
      "3\n",
      "4\n",
      "5\n"
     ]
    }
   ],
   "source": [
    "numbers = [1, 2, 3, 4, 5] #리스트\n",
    "\n",
    "for number in numbers:\n",
    "    print(number)"
   ]
  },
  {
   "cell_type": "code",
   "execution_count": 30,
   "id": "8d69a545-5cd3-4c3b-b91d-281af3dc4d44",
   "metadata": {},
   "outputs": [
    {
     "name": "stdin",
     "output_type": "stream",
     "text": [
      "단어를 입력해주세요 asdf\n"
     ]
    },
    {
     "name": "stdout",
     "output_type": "stream",
     "text": [
      "a\n",
      "s\n",
      "d\n",
      "f\n"
     ]
    }
   ],
   "source": [
    "word = input('단어를 입력해주세요') #String\n",
    "\n",
    "for char in word:\n",
    "    print(char)"
   ]
  },
  {
   "cell_type": "code",
   "execution_count": 31,
   "id": "04f77719-319b-460f-93e8-65bc934d4fb2",
   "metadata": {},
   "outputs": [
    {
     "name": "stdout",
     "output_type": "stream",
     "text": [
      "0\n",
      "1\n",
      "2\n",
      "3\n",
      "4\n"
     ]
    }
   ],
   "source": [
    "for i in range(5): #range\n",
    "   print(i)"
   ]
  },
  {
   "cell_type": "code",
   "execution_count": 32,
   "id": "30f4948c-2b09-45a1-8367-b48cf77b494f",
   "metadata": {},
   "outputs": [
    {
     "name": "stdout",
     "output_type": "stream",
     "text": [
      "1\n",
      "2\n",
      "3\n",
      "4\n",
      "5\n"
     ]
    }
   ],
   "source": [
    "for i in (1,2,3,4,5): #Tuple\n",
    "    print(i)"
   ]
  },
  {
   "cell_type": "code",
   "execution_count": 35,
   "id": "e2433e6e-8e66-4a82-a6d1-5ad7172001da",
   "metadata": {},
   "outputs": [
    {
     "name": "stdout",
     "output_type": "stream",
     "text": [
      "1\n",
      "3\n",
      "5\n",
      "7\n",
      "9\n",
      "11\n",
      "13\n",
      "15\n",
      "17\n",
      "19\n",
      "21\n",
      "23\n",
      "25\n",
      "27\n",
      "29\n"
     ]
    }
   ],
   "source": [
    "#1~30까지 숫자 중에서 홀수만 출력해보쟈?\n",
    "\n",
    "for i in range(1, 31):\n",
    "    if i % 2:\n",
    "        print(i)"
   ]
  },
  {
   "cell_type": "code",
   "execution_count": 36,
   "id": "1cc0576d-024c-4cbc-8b40-0127cab651d7",
   "metadata": {},
   "outputs": [
    {
     "name": "stdout",
     "output_type": "stream",
     "text": [
      "1\n",
      "3\n",
      "5\n",
      "7\n",
      "9\n",
      "11\n",
      "13\n",
      "15\n",
      "17\n",
      "19\n",
      "21\n",
      "23\n",
      "25\n",
      "27\n",
      "29\n"
     ]
    }
   ],
   "source": [
    "#선생님 코드\n",
    "\n",
    "numbers = range(31)\n",
    "\n",
    "for number in numbers:\n",
    "    if number % 2:\n",
    "        print(number)"
   ]
  },
  {
   "cell_type": "code",
   "execution_count": 38,
   "id": "db49777d-612a-4ca0-a75a-4190d2532053",
   "metadata": {},
   "outputs": [
    {
     "name": "stdout",
     "output_type": "stream",
     "text": [
      "(0, '라면')\n",
      "(1, '김밥')\n",
      "(2, '백반')\n"
     ]
    }
   ],
   "source": [
    "menus = ['라면', '김밥', '백반']\n",
    "for menu in enumerate(menus): #인덱스를 달아서 튜플 형태로 출력해줌?\n",
    "    print(menu)"
   ]
  },
  {
   "cell_type": "code",
   "execution_count": 40,
   "id": "ef9c0011-155b-4e10-9c2c-bc4143ee1615",
   "metadata": {},
   "outputs": [
    {
     "name": "stdout",
     "output_type": "stream",
     "text": [
      "(0, '라면')\n",
      "(1, '김밥')\n",
      "(2, '백반')\n"
     ]
    }
   ],
   "source": [
    "menus = ('라면', '김밥', '백반')\n",
    "for menu in enumerate(menus):\n",
    "    print(menu)"
   ]
  },
  {
   "cell_type": "code",
   "execution_count": 42,
   "id": "98d4694e-e0f3-4678-8c53-2ad573b77987",
   "metadata": {},
   "outputs": [
    {
     "name": "stdout",
     "output_type": "stream",
     "text": [
      "(0, '한')\n",
      "(1, '중')\n",
      "(2, '일')\n",
      "(3, '양')\n"
     ]
    }
   ],
   "source": [
    "menus = '한중일양'\n",
    "for menu in enumerate(menus):\n",
    "    print(menu)"
   ]
  },
  {
   "cell_type": "code",
   "execution_count": 43,
   "id": "30937d31-cb53-42bf-bb7e-913924a7269e",
   "metadata": {},
   "outputs": [
    {
     "name": "stdout",
     "output_type": "stream",
     "text": [
      "0\n",
      "한\n",
      "1\n",
      "중\n",
      "2\n",
      "일\n",
      "3\n",
      "양\n"
     ]
    }
   ],
   "source": [
    "for index, menu in enumerate(menus):\n",
    "    print(index)\n",
    "    print(menu)"
   ]
  },
  {
   "cell_type": "markdown",
   "id": "fa33be3a-0162-4c4e-a41d-07a37f2ed024",
   "metadata": {},
   "source": [
    "## Dictionary 반복문\n",
    "\n",
    "1.for key in dict:\n",
    "2.for key in dict.keys():\n",
    "3.gg\n",
    "4.gg\n"
   ]
  },
  {
   "cell_type": "code",
   "execution_count": 45,
   "id": "1fe1f517-ac82-4cf6-ae9a-256859668edf",
   "metadata": {},
   "outputs": [],
   "source": [
    "info = {\n",
    "    'name' : 'jeongah',\n",
    "    'location' : 'Gyeonggi',\n",
    "    'phone' : '010-0000-0000',\n",
    "    'age' : 20,    \n",
    "}"
   ]
  },
  {
   "cell_type": "code",
   "execution_count": 47,
   "id": "65648a71-9d48-4f1e-9b5e-f45ae52fedcf",
   "metadata": {},
   "outputs": [
    {
     "name": "stdout",
     "output_type": "stream",
     "text": [
      "name\n",
      "jeongah\n",
      "location\n",
      "Gyeonggi\n",
      "phone\n",
      "010-0000-0000\n",
      "age\n",
      "20\n"
     ]
    }
   ],
   "source": [
    "for cat in info:\n",
    "    print(cat)\n",
    "    print(info[cat])"
   ]
  },
  {
   "cell_type": "code",
   "execution_count": 49,
   "id": "363bbd31-6877-4cee-964a-f26810da2691",
   "metadata": {},
   "outputs": [
    {
     "data": {
      "text/plain": [
       "dict_keys(['name', 'location', 'phone', 'age'])"
      ]
     },
     "execution_count": 49,
     "metadata": {},
     "output_type": "execute_result"
    }
   ],
   "source": [
    "info.keys() #info라는 딕셔너리가 .~기능을 수행한다."
   ]
  },
  {
   "cell_type": "code",
   "execution_count": 50,
   "id": "162bed82-515e-467d-a6d9-58b3acbcecdd",
   "metadata": {},
   "outputs": [
    {
     "name": "stdout",
     "output_type": "stream",
     "text": [
      "name\n",
      "jeongah\n",
      "location\n",
      "Gyeonggi\n",
      "phone\n",
      "010-0000-0000\n",
      "age\n",
      "20\n"
     ]
    }
   ],
   "source": [
    "for key in info.keys():\n",
    "    print(key)\n",
    "    print(info[key])"
   ]
  },
  {
   "cell_type": "code",
   "execution_count": 51,
   "id": "42709121-4212-4ba1-865c-97983fc88424",
   "metadata": {},
   "outputs": [
    {
     "name": "stdout",
     "output_type": "stream",
     "text": [
      "jeongah\n",
      "Gyeonggi\n",
      "010-0000-0000\n",
      "20\n"
     ]
    }
   ],
   "source": [
    "for value in info.values():\n",
    "    print(value)"
   ]
  },
  {
   "cell_type": "code",
   "execution_count": 52,
   "id": "737c3542-e915-4ccc-9e10-e086098c24ec",
   "metadata": {},
   "outputs": [
    {
     "data": {
      "text/plain": [
       "dict_values(['jeongah', 'Gyeonggi', '010-0000-0000', 20])"
      ]
     },
     "execution_count": 52,
     "metadata": {},
     "output_type": "execute_result"
    }
   ],
   "source": [
    "info.values()"
   ]
  },
  {
   "cell_type": "code",
   "execution_count": 53,
   "id": "99cccb76-b928-4d97-a85a-f369cabc2c6e",
   "metadata": {},
   "outputs": [
    {
     "name": "stdout",
     "output_type": "stream",
     "text": [
      "name jeongah\n",
      "location Gyeonggi\n",
      "phone 010-0000-0000\n",
      "age 20\n"
     ]
    }
   ],
   "source": [
    "for key, value in info.items():\n",
    "    print(key, value)"
   ]
  },
  {
   "cell_type": "code",
   "execution_count": 59,
   "id": "74dfbca8-2dc8-4de2-ab3f-5a42311f8067",
   "metadata": {},
   "outputs": [],
   "source": [
    "blood_type = {\n",
    "    'A' : 5,\n",
    "    'B' : 10,\n",
    "    'O' : 7,\n",
    "    'AB' : 2,\n",
    "}\n"
   ]
  },
  {
   "cell_type": "code",
   "execution_count": 64,
   "id": "eece376f-232b-47fd-badf-fc80cff45da8",
   "metadata": {},
   "outputs": [
    {
     "name": "stdout",
     "output_type": "stream",
     "text": [
      "혈액형의 종류는 A B O AB 가 있습니다.\n"
     ]
    }
   ],
   "source": [
    "#혈액형의 종류는 ?? ?? 입니다.\n",
    "print ('혈액형의 종류는', end = ' ')\n",
    "for key in blood_type.keys():\n",
    "    print(key, end = ' ')\n",
    "print ('가 있습니다.')"
   ]
  },
  {
   "cell_type": "code",
   "execution_count": 67,
   "id": "bd84a5b0-bcc1-4533-936e-dace26121211",
   "metadata": {},
   "outputs": [
    {
     "name": "stdout",
     "output_type": "stream",
     "text": [
      "총 학생수는 24명입니다.\n"
     ]
    }
   ],
   "source": [
    "# 총 학생수는 몇명입니다.\n",
    "result = 0\n",
    "for value in blood_type.values():\n",
    "    result = result + value\n",
    "\n",
    "\n",
    "print(f'총 학생수는 {result}명입니다.')"
   ]
  },
  {
   "cell_type": "markdown",
   "id": "64916819-f332-4786-ad1e-b67b054d991c",
   "metadata": {},
   "source": [
    "## break\n",
    "\n",
    "반복문을 종료시키는 키워드 (if와 조합하여 사용)"
   ]
  },
  {
   "cell_type": "code",
   "execution_count": 69,
   "id": "ffa82a08-24be-499f-a52f-6bbec04992e3",
   "metadata": {},
   "outputs": [
    {
     "name": "stdout",
     "output_type": "stream",
     "text": [
      "0\n",
      "1\n",
      "2\n",
      "3\n",
      "4\n",
      "5\n",
      "6\n",
      "7\n",
      "8\n",
      "9\n",
      "10\n"
     ]
    }
   ],
   "source": [
    "for i in range(100):\n",
    "    if i > 10:\n",
    "        break\n",
    "    print(i)"
   ]
  },
  {
   "cell_type": "code",
   "execution_count": 72,
   "id": "b3f2cbe6-8543-4c21-abbd-db48e388f0aa",
   "metadata": {},
   "outputs": [
    {
     "name": "stdout",
     "output_type": "stream",
     "text": [
      "보리\n",
      "보리\n",
      "보리\n",
      "보리\n",
      "보리\n",
      "쌀\n",
      "잡았다!\n"
     ]
    }
   ],
   "source": [
    "rice = ['보리','보리', '보리', '보리', '보리', '쌀']\n",
    "\n",
    "for r in rice:\n",
    "    print(r)\n",
    "    if r == '쌀':\n",
    "        print('잡았다!')\n",
    "        break"
   ]
  },
  {
   "cell_type": "code",
   "execution_count": 73,
   "id": "d77fb213-3e8d-48ee-98c9-c60520d95d8a",
   "metadata": {},
   "outputs": [
    {
     "name": "stdout",
     "output_type": "stream",
     "text": [
      "보리\n",
      "보리\n",
      "보리\n",
      "보리\n",
      "보리\n",
      "잡았다!\n"
     ]
    }
   ],
   "source": [
    "i = 0\n",
    "\n",
    "while True:\n",
    "    if rice[i] == '쌀':\n",
    "        print('잡았다!')\n",
    "        break\n",
    "    print(rice[i])\n",
    "    i += 1"
   ]
  },
  {
   "cell_type": "markdown",
   "id": "6415513a-2a14-4f24-9462-a89efcaecc76",
   "metadata": {},
   "source": [
    "### continue\n",
    "\n",
    "continue 이후의 코드를 실행하지 않고 다음 반복을 진행 (skip)"
   ]
  },
  {
   "cell_type": "code",
   "execution_count": 75,
   "id": "e92e4d9c-d1e4-4b3e-9432-4eab6d0562b3",
   "metadata": {},
   "outputs": [
    {
     "name": "stdout",
     "output_type": "stream",
     "text": [
      "0\n",
      "2\n",
      "4\n",
      "6\n",
      "8\n",
      "10\n",
      "12\n",
      "14\n",
      "16\n",
      "18\n"
     ]
    }
   ],
   "source": [
    "for i in range(20):\n",
    "    if i % 2:\n",
    "        continue\n",
    "    print(i)"
   ]
  },
  {
   "cell_type": "code",
   "execution_count": 78,
   "id": "958b0b03-88a3-4263-a4ef-0793775d9eb7",
   "metadata": {},
   "outputs": [
    {
     "name": "stdout",
     "output_type": "stream",
     "text": [
      "20살은성인입니다.\n",
      "38살은성인입니다.\n",
      "92살은성인입니다.\n",
      "45살은성인입니다.\n",
      "74살은성인입니다.\n"
     ]
    }
   ],
   "source": [
    "ages = [9, 11, 20, 38, 17, 92, 45, 74]\n",
    "\n",
    "for age in ages:\n",
    "    if age < 20:\n",
    "        continue\n",
    "    print(f'{age}살은성인입니다.')"
   ]
  },
  {
   "cell_type": "markdown",
   "id": "9ae81cc5-63a1-48dd-a9bb-2c89beb906a2",
   "metadata": {},
   "source": [
    "### else\n",
    "\n",
    "else문은 끝가지 반복된 후 실행됩니다. (=break를 만나지 않았을 때 실행됩니다.)"
   ]
  },
  {
   "cell_type": "code",
   "execution_count": 81,
   "id": "81e2f78f-56dc-4962-916e-ac97b4c8f859",
   "metadata": {},
   "outputs": [
    {
     "name": "stdout",
     "output_type": "stream",
     "text": [
      "0\n",
      "1\n",
      "2\n",
      "3\n",
      "4\n",
      "5\n"
     ]
    }
   ],
   "source": [
    "for i in range(10):\n",
    "    if i > 5:\n",
    "        break\n",
    "    print(i)\n",
    "else:\n",
    "    print('else입니다.')"
   ]
  },
  {
   "cell_type": "markdown",
   "id": "efcde8f9-46a8-418f-be18-370a15687220",
   "metadata": {},
   "source": [
    "### pass"
   ]
  },
  {
   "cell_type": "code",
   "execution_count": 82,
   "id": "afdd2238-640a-4e42-8bc7-60bba412d2fb",
   "metadata": {},
   "outputs": [],
   "source": [
    "# 임시 작성시 활용, 에러 안나게 임의로 작성\n",
    "if True:\n",
    "    pass"
   ]
  },
  {
   "cell_type": "markdown",
   "id": "5b00248b-230b-4383-860f-f08539fe5cc7",
   "metadata": {},
   "source": [
    "### match - case\n",
    "\n",
    "```\n",
    "match value:\n",
    "    case 조건:\n",
    "        code\n",
    "    case 조건:\n",
    "        code\n",
    "    case _:\n",
    "        code\n",
    "```"
   ]
  },
  {
   "cell_type": "code",
   "execution_count": 83,
   "id": "38b64350-342f-47c2-9f13-2a5aa3bd920c",
   "metadata": {},
   "outputs": [
    {
     "name": "stdout",
     "output_type": "stream",
     "text": [
      "bad\n"
     ]
    }
   ],
   "source": [
    "status = 404\n",
    "\n",
    "match status:\n",
    "    case 200:\n",
    "        print('ok')\n",
    "    case 404:\n",
    "        print('bad')\n",
    "    case _:\n",
    "        print('meh')"
   ]
  },
  {
   "cell_type": "code",
   "execution_count": null,
   "id": "0f2d8d37-c905-40ca-89c7-7d924f93f6f4",
   "metadata": {},
   "outputs": [],
   "source": []
  }
 ],
 "metadata": {
  "kernelspec": {
   "display_name": "Python 3 (ipykernel)",
   "language": "python",
   "name": "python3"
  },
  "language_info": {
   "codemirror_mode": {
    "name": "ipython",
    "version": 3
   },
   "file_extension": ".py",
   "mimetype": "text/x-python",
   "name": "python",
   "nbconvert_exporter": "python",
   "pygments_lexer": "ipython3",
   "version": "3.12.4"
  }
 },
 "nbformat": 4,
 "nbformat_minor": 5
}
